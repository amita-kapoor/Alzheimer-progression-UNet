{
  "nbformat": 4,
  "nbformat_minor": 0,
  "metadata": {
    "colab": {
      "name": "Excercise_Classification.ipynb",
      "provenance": [],
      "toc_visible": true,
      "mount_file_id": "1Hx2OjLbdwQKQNrKt-HhXtRJo2h5VoOwR",
      "authorship_tag": "ABX9TyOxjy4ifO7MzF+LmNjobnD7",
      "include_colab_link": true
    },
    "kernelspec": {
      "name": "python3",
      "display_name": "Python 3"
    },
    "accelerator": "GPU"
  },
  "cells": [
    {
      "cell_type": "markdown",
      "metadata": {
        "id": "view-in-github",
        "colab_type": "text"
      },
      "source": [
        "<a href=\"https://colab.research.google.com/github/amita-kapoor/UO-Artificial-Intelligence-Cloud-and-Edge-Implementations/blob/master/Excercise_Classification.ipynb\" target=\"_parent\"><img src=\"https://colab.research.google.com/assets/colab-badge.svg\" alt=\"Open In Colab\"/></a>"
      ]
    },
    {
      "cell_type": "markdown",
      "metadata": {
        "id": "rZDq2nwZp2dv",
        "colab_type": "text"
      },
      "source": [
        "## Classification Exercises\n",
        "\n",
        "For these exercises use the GPU in Google Colab. To enable GPU go to top menu bar in **EDIT** menu go to **NoteBook Settings**. Once you click it a window opens, in the hardware accelerator dropdown menu choose GPU. \n",
        "\n",
        "![alt](https://drive.google.com/uc?id=1rZf9pvb5rqY4rFwYqUhdmPkSrzaXBhPg)\n",
        "### Part 1: Building the model\n",
        "Below we define a function to built a neural network model using TensorFlow Keras. "
      ]
    },
    {
      "cell_type": "code",
      "metadata": {
        "id": "3mhZ0xlMRqO6",
        "colab_type": "code",
        "colab": {}
      },
      "source": [
        "import tensorflow as tf\n",
        "import numpy as np\n",
        "from tensorflow import keras\n",
        "\n",
        "def built_model(input_shape, n_hidden, nb_classes, optimizer='SGD'):\n",
        "  model = tf.keras.models.Sequential()\n",
        "  model.add(keras.layers.Dense(n_hidden,\n",
        "       input_shape=(input_shape,),\n",
        "       name='dense_layer', activation='relu'))\n",
        "  model.add(keras.layers.Dense(n_hidden,\n",
        "        name='dense_layer_2', activation='relu'))\n",
        "  model.add(keras.layers.Dense(nb_classes,\n",
        "        name='dense_layer_3', activation='softmax'))\n",
        "  model.compile(optimizer=optimizer, \n",
        "              loss='categorical_crossentropy',\n",
        "              metrics=['accuracy'])\n",
        "  return model\n"
      ],
      "execution_count": 0,
      "outputs": []
    },
    {
      "cell_type": "markdown",
      "metadata": {
        "id": "q5E0fCSDrwu_",
        "colab_type": "text"
      },
      "source": [
        "**Exercise 1** What should be the values of the arguments `INPUT_SHAPE`: the number of input units, `N_HIDDEN`: the number of hidden units, and `NB_CLASSES`: the number of output units, if we want to build a model using `built_model` function with the specifications given in the figure:\n",
        "\n",
        "![](https://drive.google.com/uc?id=1pcj2sHJK6CmhMjUo43AMNBxnU4ixQne3)\n",
        "\n"
      ]
    },
    {
      "cell_type": "code",
      "metadata": {
        "id": "sBfRdV8ARuCe",
        "colab_type": "code",
        "colab": {}
      },
      "source": [
        "# Task to do\n",
        "INPUT_SHAPE = #?\n",
        "N_HIDDEN = #?\n",
        "NB_CLASSES = #?  \n",
        "\n",
        "assert(INPUT_SHAPE == 5), \"Input shape incorrect\"\n",
        "assert(N_HIDDEN == 10), \"Number of hidden neurons incorrect\"\n",
        "assert(NB_CLASSES == 2), \"Number of output units incorrect\""
      ],
      "execution_count": 0,
      "outputs": []
    },
    {
      "cell_type": "code",
      "metadata": {
        "id": "s00urUTcqfZR",
        "colab_type": "code",
        "colab": {}
      },
      "source": [
        "model = built_model(INPUT_SHAPE, N_HIDDEN,NB_CLASSES)"
      ],
      "execution_count": 0,
      "outputs": []
    },
    {
      "cell_type": "markdown",
      "metadata": {
        "id": "mTccrPMNyZF5",
        "colab_type": "text"
      },
      "source": [
        "**Exercise 2** Based on the input, hidden and output units what are the total number of trainable parameters in this model?"
      ]
    },
    {
      "cell_type": "code",
      "metadata": {
        "id": "3DchkRcAyXM6",
        "colab_type": "code",
        "colab": {}
      },
      "source": [
        "# Task to do\n",
        "trainable_parameters = #?\n",
        "\n",
        "assert trainable_parameters==model.count_params(), \"Your answer is incorrect\"\n",
        "print(\"Number of trainable parameters in the model are\", trainable_parameters)"
      ],
      "execution_count": 0,
      "outputs": []
    },
    {
      "cell_type": "markdown",
      "metadata": {
        "id": "g33IqZrGzLeW",
        "colab_type": "text"
      },
      "source": [
        "Good work! Let us now visualize the summary of the model created. "
      ]
    },
    {
      "cell_type": "code",
      "metadata": {
        "id": "f4OteoBfx_QH",
        "colab_type": "code",
        "colab": {}
      },
      "source": [
        "model.summary()"
      ],
      "execution_count": 0,
      "outputs": []
    },
    {
      "cell_type": "markdown",
      "metadata": {
        "id": "2qeqEE5A3MQl",
        "colab_type": "text"
      },
      "source": [
        "### Part 2: Reading the dataset\n",
        "\n",
        "We will continue with the MNIST dataset. "
      ]
    },
    {
      "cell_type": "code",
      "metadata": {
        "id": "D3OEjwzLyBoO",
        "colab_type": "code",
        "colab": {}
      },
      "source": [
        "mnist = keras.datasets.mnist\n",
        "(X_train, Y_train), (X_test, Y_test) = mnist.load_data()"
      ],
      "execution_count": 0,
      "outputs": []
    },
    {
      "cell_type": "code",
      "metadata": {
        "id": "94uZnloL4-lB",
        "colab_type": "code",
        "colab": {}
      },
      "source": [
        "# Processing the data\n",
        "assert(len(X_train.shape)==3), \"The input data is not of the right shape\"\n",
        "RESHAPED = X_train.shape[1]*X_train.shape[2]\n",
        "\n",
        "X_train = X_train.reshape(60000, RESHAPED)\n",
        "X_test = X_test.reshape(10000, RESHAPED)\n",
        "X_train = X_train.astype('float32')\n",
        "X_test = X_test.astype('float32')"
      ],
      "execution_count": 0,
      "outputs": []
    },
    {
      "cell_type": "code",
      "metadata": {
        "id": "BJIMT6sT5Wtd",
        "colab_type": "code",
        "colab": {}
      },
      "source": [
        "# Data Normalization\n",
        "X_train, X_test = X_train / 255.0, X_test / 255.0\n",
        "print(X_train.shape[0], 'train samples')\n",
        "print(X_test.shape[0], 'test samples')"
      ],
      "execution_count": 0,
      "outputs": []
    },
    {
      "cell_type": "markdown",
      "metadata": {
        "id": "HIRrNUTj4h_R",
        "colab_type": "text"
      },
      "source": [
        "For the MNIST dataset the number of input and number of output units are fixed. However we can choose different values of hidden units. "
      ]
    },
    {
      "cell_type": "code",
      "metadata": {
        "id": "si1FflpL3_hj",
        "colab_type": "code",
        "colab": {}
      },
      "source": [
        "INPUT_SHAPE = RESHAPED\n",
        "NB_CLASSES = len(set(Y_train))"
      ],
      "execution_count": 0,
      "outputs": []
    },
    {
      "cell_type": "code",
      "metadata": {
        "id": "ISwN58Q48a03",
        "colab_type": "code",
        "colab": {}
      },
      "source": [
        "# one-hot encode\n",
        "Y_train = tf.keras.utils.to_categorical(Y_train, NB_CLASSES)\n",
        "Y_test = tf.keras.utils.to_categorical(Y_test, NB_CLASSES)"
      ],
      "execution_count": 0,
      "outputs": []
    },
    {
      "cell_type": "markdown",
      "metadata": {
        "id": "-gjEx-hQ6Xsv",
        "colab_type": "text"
      },
      "source": [
        "### Part 3: Hyperparameters\n",
        "**Exercise 3:** The aim of this exercise is to understand the affect of changing number of hidden units on the model performance. Change the number of hidden units, and train the model. Compare the model performance in terms of accuracy. What do you understand from this?"
      ]
    },
    {
      "cell_type": "markdown",
      "metadata": {
        "id": "MWggLtWe7MUR",
        "colab_type": "text"
      },
      "source": [
        "**Answer** Please type your answer here (Double click to edit)"
      ]
    },
    {
      "cell_type": "code",
      "metadata": {
        "id": "qscy8jLk6BEA",
        "colab_type": "code",
        "colab": {}
      },
      "source": [
        "# Task to do choose different values for number of hidden units (minimum five different values)\n",
        "N_HIDDEN = #? Choose a value"
      ],
      "execution_count": 0,
      "outputs": []
    },
    {
      "cell_type": "code",
      "metadata": {
        "id": "9yG8aKH37krD",
        "colab_type": "code",
        "colab": {}
      },
      "source": [
        "model = built_model(INPUT_SHAPE,N_HIDDEN, NB_CLASSES)\n",
        "history = model.fit(X_train, Y_train,\n",
        "\t\tbatch_size=128, epochs=50,\n",
        "\t\tverbose=1, validation_split=0.2)"
      ],
      "execution_count": 0,
      "outputs": []
    },
    {
      "cell_type": "code",
      "metadata": {
        "id": "1Jt40iXW8Iig",
        "colab_type": "code",
        "colab": {}
      },
      "source": [
        "# Evaluate the model\n",
        "test_loss, test_acc = model.evaluate(X_test, Y_test)\n",
        "print('Test accuracy: {:.2f} %'.format(test_acc*100))"
      ],
      "execution_count": 0,
      "outputs": []
    },
    {
      "cell_type": "markdown",
      "metadata": {
        "id": "cqfMXnlJA02g",
        "colab_type": "text"
      },
      "source": [
        "**Exercise 4:** Let us now repeat the same after changing the batch size (minimum 5 different values). Compare the model performance in terms of accuracy. What do you understand from this?"
      ]
    },
    {
      "cell_type": "markdown",
      "metadata": {
        "colab_type": "text",
        "id": "9z0TctxjB0KA"
      },
      "source": [
        "**Answer** Please type your answer here (Double click to edit)"
      ]
    },
    {
      "cell_type": "code",
      "metadata": {
        "id": "TXO0QZtS_mQ_",
        "colab_type": "code",
        "colab": {}
      },
      "source": [
        "# Task to do choose different values for batch size (minimum five different values)\n",
        "BATCH_SIZE =   #? Choose a value"
      ],
      "execution_count": 0,
      "outputs": []
    },
    {
      "cell_type": "code",
      "metadata": {
        "id": "ssu3rT0MBdUD",
        "colab_type": "code",
        "colab": {}
      },
      "source": [
        "model = built_model(INPUT_SHAPE,128, NB_CLASSES)\n",
        "history = model.fit(X_train, Y_train,\n",
        "\t\tbatch_size=BATCH_SIZE, epochs=50,\n",
        "\t\tverbose=1, validation_split=0.2)"
      ],
      "execution_count": 0,
      "outputs": []
    },
    {
      "cell_type": "code",
      "metadata": {
        "id": "S1CVvMthBmWr",
        "colab_type": "code",
        "colab": {}
      },
      "source": [
        "# Evaluate the model\n",
        "test_loss, test_acc = model.evaluate(X_test, Y_test)\n",
        "print('Test accuracy: {:.2f} %'.format(test_acc*100))"
      ],
      "execution_count": 0,
      "outputs": []
    },
    {
      "cell_type": "markdown",
      "metadata": {
        "colab_type": "text",
        "id": "8L802oqkCBg8"
      },
      "source": [
        "**Exercise 5:** And now we do the same with different optimizers available in TensorFlow. Change the optimizers and compare the model performance in terms of accuracy. What do you understand from this?"
      ]
    },
    {
      "cell_type": "markdown",
      "metadata": {
        "colab_type": "text",
        "id": "1M0Dx7O2CEW8"
      },
      "source": [
        "**Answer** Please type your answer here (Double click to edit)"
      ]
    },
    {
      "cell_type": "code",
      "metadata": {
        "id": "2DsZiC8CB7j5",
        "colab_type": "code",
        "colab": {}
      },
      "source": [
        "# Task to do choose different optimizers\n",
        "opt =   #? Choose from available optimizers"
      ],
      "execution_count": 0,
      "outputs": []
    },
    {
      "cell_type": "code",
      "metadata": {
        "id": "DkcTxGl4CqK5",
        "colab_type": "code",
        "colab": {}
      },
      "source": [
        "N_HIDDEN = 128\n",
        "model = built_model(INPUT_SHAPE,N_HIDDEN, NB_CLASSES, opt)\n",
        "history = model.fit(X_train, Y_train,\n",
        "\t\tbatch_size=128, epochs=50,\n",
        "\t\tverbose=1, validation_split=0.2)"
      ],
      "execution_count": 0,
      "outputs": []
    },
    {
      "cell_type": "code",
      "metadata": {
        "id": "Ih2YDy1gCy5T",
        "colab_type": "code",
        "colab": {}
      },
      "source": [
        "# Evaluate the model\n",
        "test_loss, test_acc = model.evaluate(X_test, Y_test)\n",
        "print('Test accuracy: {:.2f} %'.format(test_acc*100))"
      ],
      "execution_count": 0,
      "outputs": []
    },
    {
      "cell_type": "markdown",
      "metadata": {
        "id": "-46TwuMnDdIB",
        "colab_type": "text"
      },
      "source": [
        "### Optional Exercise: Fashion MNIST\n",
        "\n",
        "Repeat the above exercises (3-5) with different dataset. You can use Fashion MNIST another popular ML dataset. Are the results same? Comment.\n",
        "\n",
        "To download fashion mnist you can use the following code:\n",
        "\n",
        "```\n",
        "fashion_mnist = keras.datasets.fashion_mnist\n",
        "\n",
        "(X_train, Y_train), (X_test, Y_test) = fashion_mnist.load_data()\n",
        "```"
      ]
    },
    {
      "cell_type": "code",
      "metadata": {
        "id": "kqc0ID8XDLCN",
        "colab_type": "code",
        "colab": {}
      },
      "source": [
        ""
      ],
      "execution_count": 0,
      "outputs": []
    }
  ]
}