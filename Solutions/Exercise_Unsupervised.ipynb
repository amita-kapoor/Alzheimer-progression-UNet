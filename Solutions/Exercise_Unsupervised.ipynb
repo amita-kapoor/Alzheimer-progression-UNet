{
  "nbformat": 4,
  "nbformat_minor": 0,
  "metadata": {
    "colab": {
      "name": "Exercise_Unsupervised.ipynb",
      "provenance": [],
      "authorship_tag": "ABX9TyMCq/aMutlrdIohlccD9u87",
      "include_colab_link": true
    },
    "kernelspec": {
      "name": "python3",
      "display_name": "Python 3"
    }
  },
  "cells": [
    {
      "cell_type": "markdown",
      "metadata": {
        "id": "view-in-github",
        "colab_type": "text"
      },
      "source": [
        "<a href=\"https://colab.research.google.com/github/amita-kapoor/UO-Artificial-Intelligence-Cloud-and-Edge-Implementations/blob/master/Solutions/Exercise_Unsupervised.ipynb\" target=\"_parent\"><img src=\"https://colab.research.google.com/assets/colab-badge.svg\" alt=\"Open In Colab\"/></a>"
      ]
    },
    {
      "cell_type": "markdown",
      "metadata": {
        "id": "o-xa7l-zzrGG",
        "colab_type": "text"
      },
      "source": [
        "# Unsupervised Learning\n",
        "\n",
        "In the class we learned two commonly used unsupervised learning algorithms:\n",
        "* Principal Component Analysis\n",
        "* K-Means\n",
        "\n",
        "In this exercise we will use the two to perform clustering for Iris Data set.\n",
        "\n",
        "## Iris Dataset\n",
        "\n",
        "[Iris dataset](https://archive.ics.uci.edu/ml/datasets/iris) is a very popular dataset in machine learning community. Developed by Fisher, it containd 3 classes each with 50 instances. Each of the three class refers to a type of Iris plant. Each data point consists of four different attributes and a class label:\n",
        "\n",
        "1. sepal length in cm\n",
        "2. sepal width in cm\n",
        "3. petal length in cm\n",
        "4. petal width in cm\n",
        "5. class:\n",
        " * Iris Setosa\n",
        " * Iris Versicolour\n",
        " * Iris Virginica\n",
        "\n",
        "\n"
      ]
    },
    {
      "cell_type": "code",
      "metadata": {
        "id": "H4fJ8exk1tXe",
        "colab_type": "code",
        "colab": {},
        "cellView": "both"
      },
      "source": [
        "#@title Import Necessary Modules\n",
        "import tensorflow as tf\n",
        "import numpy as np\n",
        "import matplotlib.pyplot as plt\n",
        "import pandas as pd"
      ],
      "execution_count": 38,
      "outputs": []
    },
    {
      "cell_type": "markdown",
      "metadata": {
        "id": "O0fzmRME3ko7",
        "colab_type": "text"
      },
      "source": [
        "### Exercise 1: Download Data\n",
        "\n",
        "Download the data using `tf.keras.utils.get_file()` function. Pass two arguments to the function the file name and the url containg the data.\n",
        "\n",
        "* For training data use the file name (`fname`) \"iris_training.csv\" and the url is \"https://storage.googleapis.com/download.tensorflow.org/data/iris_training.csv\"\n",
        "\n",
        "* For test data use the file name (`fname`) \"iris_test.csv\" and the url is \"https://storage.googleapis.com/download.tensorflow.org/data/iris_test.csv\"\n",
        "\n",
        "For more information and usage you can refer to [TensorFlow documentation](https://www.tensorflow.org/api_docs/python/tf/keras/utils/get_file).\n",
        "\n"
      ]
    },
    {
      "cell_type": "code",
      "metadata": {
        "id": "BJhaKhpD3j9b",
        "colab_type": "code",
        "colab": {}
      },
      "source": [
        "# To Do Complete the code\n",
        "## Replace the ... with right code\n",
        "train_path = tf.keras.utils.get_file(\n",
        "    \"iris_training.csv\", \"https://storage.googleapis.com/download.tensorflow.org/data/iris_training.csv\")\n",
        "test_path = tf.keras.utils.get_file(\n",
        "    \"iris_test.csv\", \"https://storage.googleapis.com/download.tensorflow.org/data/iris_test.csv\")\n",
        "\n",
        "# ----------------- Do not change anything below ------------------------------------#\n",
        "CSV_COLUMN_NAMES = ['SepalLength', 'SepalWidth', 'PetalLength', 'PetalWidth', 'Species']\n",
        "SPECIES = ['Setosa', 'Versicolor', 'Virginica']\n",
        "\n",
        "train = pd.read_csv(train_path, names=CSV_COLUMN_NAMES, header=0)\n",
        "test = pd.read_csv(test_path, names=CSV_COLUMN_NAMES, header=0)\n"
      ],
      "execution_count": 39,
      "outputs": []
    },
    {
      "cell_type": "markdown",
      "metadata": {
        "id": "Oa4NPihg7l1l",
        "colab_type": "text"
      },
      "source": [
        "### Exercise 2: Data Analysis and Visualization\n",
        "\n",
        "Analyze the data. Analyzing data is avery important skill. You can start from simple information like size of test and train dataset. To random sample of few to plotting between different features. [Here](https://www.kaggle.com/kstaud85/iris-data-visualization) is an example dataset visualization notebook for Iris Dataset. You can take some ideas from here.\n",
        "\n",
        "As part of the exercise we expect you to perform atleast three analysis/visualizations. \n",
        "You can use as many code cells as you need.\n",
        "\n",
        "Remember `train` and `test` are Pandas DataFrames."
      ]
    },
    {
      "cell_type": "code",
      "metadata": {
        "id": "gFrSJrFf9yai",
        "colab_type": "code",
        "colab": {
          "base_uri": "https://localhost:8080/",
          "height": 206
        },
        "outputId": "5e3845f4-ef02-4574-a88f-5d95df3b838b"
      },
      "source": [
        "## To do write code to analyze and visualize the data\n",
        "#  you can add as many code cells as you requre\n",
        "# below for example we show the top 5 samples from training dataset.\n",
        "train.head(5)"
      ],
      "execution_count": 40,
      "outputs": [
        {
          "output_type": "execute_result",
          "data": {
            "text/html": [
              "<div>\n",
              "<style scoped>\n",
              "    .dataframe tbody tr th:only-of-type {\n",
              "        vertical-align: middle;\n",
              "    }\n",
              "\n",
              "    .dataframe tbody tr th {\n",
              "        vertical-align: top;\n",
              "    }\n",
              "\n",
              "    .dataframe thead th {\n",
              "        text-align: right;\n",
              "    }\n",
              "</style>\n",
              "<table border=\"1\" class=\"dataframe\">\n",
              "  <thead>\n",
              "    <tr style=\"text-align: right;\">\n",
              "      <th></th>\n",
              "      <th>SepalLength</th>\n",
              "      <th>SepalWidth</th>\n",
              "      <th>PetalLength</th>\n",
              "      <th>PetalWidth</th>\n",
              "      <th>Species</th>\n",
              "    </tr>\n",
              "  </thead>\n",
              "  <tbody>\n",
              "    <tr>\n",
              "      <th>0</th>\n",
              "      <td>6.4</td>\n",
              "      <td>2.8</td>\n",
              "      <td>5.6</td>\n",
              "      <td>2.2</td>\n",
              "      <td>2</td>\n",
              "    </tr>\n",
              "    <tr>\n",
              "      <th>1</th>\n",
              "      <td>5.0</td>\n",
              "      <td>2.3</td>\n",
              "      <td>3.3</td>\n",
              "      <td>1.0</td>\n",
              "      <td>1</td>\n",
              "    </tr>\n",
              "    <tr>\n",
              "      <th>2</th>\n",
              "      <td>4.9</td>\n",
              "      <td>2.5</td>\n",
              "      <td>4.5</td>\n",
              "      <td>1.7</td>\n",
              "      <td>2</td>\n",
              "    </tr>\n",
              "    <tr>\n",
              "      <th>3</th>\n",
              "      <td>4.9</td>\n",
              "      <td>3.1</td>\n",
              "      <td>1.5</td>\n",
              "      <td>0.1</td>\n",
              "      <td>0</td>\n",
              "    </tr>\n",
              "    <tr>\n",
              "      <th>4</th>\n",
              "      <td>5.7</td>\n",
              "      <td>3.8</td>\n",
              "      <td>1.7</td>\n",
              "      <td>0.3</td>\n",
              "      <td>0</td>\n",
              "    </tr>\n",
              "  </tbody>\n",
              "</table>\n",
              "</div>"
            ],
            "text/plain": [
              "   SepalLength  SepalWidth  PetalLength  PetalWidth  Species\n",
              "0          6.4         2.8          5.6         2.2        2\n",
              "1          5.0         2.3          3.3         1.0        1\n",
              "2          4.9         2.5          4.5         1.7        2\n",
              "3          4.9         3.1          1.5         0.1        0\n",
              "4          5.7         3.8          1.7         0.3        0"
            ]
          },
          "metadata": {
            "tags": []
          },
          "execution_count": 40
        }
      ]
    },
    {
      "cell_type": "code",
      "metadata": {
        "id": "5yPN6lDe919G",
        "colab_type": "code",
        "colab": {}
      },
      "source": [
        ""
      ],
      "execution_count": 40,
      "outputs": []
    },
    {
      "cell_type": "markdown",
      "metadata": {
        "id": "frgCH3glDcR2",
        "colab_type": "text"
      },
      "source": [
        "### Exercise 3 : Preprocess the data\n",
        "\n",
        "Implement the following steps:\n",
        "\n",
        "1. Drop the label - Species, since we are doing Unsupervised learning we do not need labels.\n",
        "\n",
        " ###### You may want to save labels separately too verify if indeed your model has been able to cluster properly.\n",
        "\n",
        "2. For PCA it is good if the data has zero mean and variance of 1. To achieve this subtract mean and  divide by standard deviation.\n"
      ]
    },
    {
      "cell_type": "code",
      "metadata": {
        "id": "jSV3oFsCmPTS",
        "colab_type": "code",
        "colab": {}
      },
      "source": [
        "## Drop the labels\n",
        "\n",
        "train.drop([\"Species\"], inplace=True, axis = 1)\n",
        "test.drop([\"Species\"], inplace=True, axis = 1)"
      ],
      "execution_count": 41,
      "outputs": []
    },
    {
      "cell_type": "code",
      "metadata": {
        "id": "NjIfZPVhnYME",
        "colab_type": "code",
        "colab": {}
      },
      "source": [
        "# Subtract mean from individual value and divide by standard deviation\n",
        "\n",
        "normalized_train=(train-train.mean())/train.std()\n",
        "normalized_test=(test-test.mean())/test.std()"
      ],
      "execution_count": 42,
      "outputs": []
    },
    {
      "cell_type": "markdown",
      "metadata": {
        "id": "ovefUIbeq5EO",
        "colab_type": "text"
      },
      "source": [
        "### Exercise 4: \n",
        "Compute the SUV matrices using TensorFlow `linalg()` function. Once you get SUV matrices convert S matrix to diagonal matrix  using `tf.linalg.diag()` "
      ]
    },
    {
      "cell_type": "code",
      "metadata": {
        "id": "3f8CjnAQoz1u",
        "colab_type": "code",
        "colab": {}
      },
      "source": [
        "# Compute the SUV matrces\n",
        "s, u, v = tf.linalg.svd(normalized_df)"
      ],
      "execution_count": 43,
      "outputs": []
    },
    {
      "cell_type": "code",
      "metadata": {
        "id": "sMvL2wa0qt9Z",
        "colab_type": "code",
        "colab": {}
      },
      "source": [
        "s = tf.linalg.diag(s)"
      ],
      "execution_count": 44,
      "outputs": []
    },
    {
      "cell_type": "markdown",
      "metadata": {
        "id": "hPv9Iidls0gl",
        "colab_type": "text"
      },
      "source": [
        "### Exercise 5:\n",
        "\n",
        "Now compute the PCA for 2 principal components. See how the shape gets modified from original dataset and PCA dataset."
      ]
    },
    {
      "cell_type": "code",
      "metadata": {
        "id": "9hP63SnRs0_w",
        "colab_type": "code",
        "colab": {}
      },
      "source": [
        "k = 2\n",
        "pca = tf.matmul(u[:,0:k], s[0:k,0:k])"
      ],
      "execution_count": 45,
      "outputs": []
    },
    {
      "cell_type": "code",
      "metadata": {
        "id": "uE28oLvis47a",
        "colab_type": "code",
        "colab": {
          "base_uri": "https://localhost:8080/",
          "height": 52
        },
        "outputId": "954fec87-5063-4046-d06e-b6248c6664b5"
      },
      "source": [
        "print('original data shape',train.shape)\n",
        "print('reduced data shape', pca.shape)"
      ],
      "execution_count": 46,
      "outputs": [
        {
          "output_type": "stream",
          "text": [
            "original data shape (120, 4)\n",
            "reduced data shape (120, 2)\n"
          ],
          "name": "stdout"
        }
      ]
    },
    {
      "cell_type": "markdown",
      "metadata": {
        "id": "s4FNrqrj7ibT",
        "colab_type": "text"
      },
      "source": [
        "### Exercise 6:\n",
        "Let us plot and see if our PCA is able to cluster the dataset."
      ]
    },
    {
      "cell_type": "code",
      "metadata": {
        "id": "DpjssUpZs8cy",
        "colab_type": "code",
        "colab": {
          "base_uri": "https://localhost:8080/",
          "height": 284
        },
        "outputId": "e5163a5b-176f-4c7a-d862-28d148a610c4"
      },
      "source": [
        "plt.scatter(pca[:,0],pca[:,1])"
      ],
      "execution_count": 47,
      "outputs": [
        {
          "output_type": "execute_result",
          "data": {
            "text/plain": [
              "<matplotlib.collections.PathCollection at 0x7fb66921dfd0>"
            ]
          },
          "metadata": {
            "tags": []
          },
          "execution_count": 47
        },
        {
          "output_type": "display_data",
          "data": {
            "image/png": "[encoded data removed]",
            "text/plain": [
              "<Figure size 432x288 with 1 Axes>"
            ]
          },
          "metadata": {
            "tags": [],
            "needs_background": "light"
          }
        }
      ]
    },
    {
      "cell_type": "markdown",
      "metadata": {
        "id": "RB--LQXs71LC",
        "colab_type": "text"
      },
      "source": [
        "## Optional Exercise\n",
        "\n",
        "TRy repeating the clustering process this time using the K-means algorithm on the Iris dataset. Reflect on the result."
      ]
    },
    {
      "cell_type": "code",
      "metadata": {
        "id": "XvZdPc5U7Ivf",
        "colab_type": "code",
        "colab": {}
      },
      "source": [
        ""
      ],
      "execution_count": null,
      "outputs": []
    }
  ]
}