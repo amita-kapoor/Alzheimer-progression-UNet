{
  "nbformat": 4,
  "nbformat_minor": 0,
  "metadata": {
    "colab": {
      "name": "Excercise_Classification.ipynb",
      "provenance": [],
      "toc_visible": true,
      "mount_file_id": "1Hx2OjLbdwQKQNrKt-HhXtRJo2h5VoOwR",
      "authorship_tag": "ABX9TyMdzmGXaMQ0wfp8aoLEniX2",
      "include_colab_link": true
    },
    "kernelspec": {
      "name": "python3",
      "display_name": "Python 3"
    },
    "accelerator": "GPU"
  },
  "cells": [
    {
      "cell_type": "markdown",
      "metadata": {
        "id": "view-in-github",
        "colab_type": "text"
      },
      "source": [
        "<a href=\"https://colab.research.google.com/github/amita-kapoor/UO-Artificial-Intelligence-Cloud-and-Edge-Implementations/blob/master/Solutions/Excercise_Classification.ipynb\" target=\"_parent\"><img src=\"https://colab.research.google.com/assets/colab-badge.svg\" alt=\"Open In Colab\"/></a>"
      ]
    },
    {
      "cell_type": "markdown",
      "metadata": {
        "id": "rZDq2nwZp2dv",
        "colab_type": "text"
      },
      "source": [
        "## Classification Exercises\n",
        "\n",
        "For these exercises use the GPU in Google Colab. To enable GPU go to top menu bar in **EDIT** menu go to **NoteBook Settings**. Once you click it a window opens, in the hardware accelerator dropdown menu choose GPU. \n",
        "\n",
        "![alt](https://drive.google.com/uc?id=1rZf9pvb5rqY4rFwYqUhdmPkSrzaXBhPg)\n",
        "### Part 1: Building the model\n",
        "Below we define a function to built a neural network model using TensorFlow Keras. "
      ]
    },
    {
      "cell_type": "code",
      "metadata": {
        "id": "3mhZ0xlMRqO6",
        "colab_type": "code",
        "colab": {}
      },
      "source": [
        "import tensorflow as tf\n",
        "import numpy as np\n",
        "from tensorflow import keras\n",
        "\n",
        "def built_model(input_shape, n_hidden, nb_classes, optimizer='SGD'):\n",
        "  model = tf.keras.models.Sequential()\n",
        "  model.add(keras.layers.Dense(n_hidden,\n",
        "       input_shape=(input_shape,),\n",
        "       name='dense_layer', activation='relu'))\n",
        "  model.add(keras.layers.Dense(n_hidden,\n",
        "        name='dense_layer_2', activation='relu'))\n",
        "  model.add(keras.layers.Dense(nb_classes,\n",
        "        name='dense_layer_3', activation='softmax'))\n",
        "  model.compile(optimizer=optimizer, \n",
        "              loss='categorical_crossentropy',\n",
        "              metrics=['accuracy'])\n",
        "  return model\n"
      ],
      "execution_count": 0,
      "outputs": []
    },
    {
      "cell_type": "markdown",
      "metadata": {
        "id": "q5E0fCSDrwu_",
        "colab_type": "text"
      },
      "source": [
        "**Exercise 1** What should be the values of the arguments `INPUT_SHAPE`: the number of input units, `N_HIDDEN`: the number of hidden units, and `NB_CLASSES`: the number of output units, if we want to build a model using `built_model` function with the specifications given in the figure:\n",
        "\n",
        "![](https://drive.google.com/uc?id=1pcj2sHJK6CmhMjUo43AMNBxnU4ixQne3)\n",
        "\n"
      ]
    },
    {
      "cell_type": "code",
      "metadata": {
        "id": "sBfRdV8ARuCe",
        "colab_type": "code",
        "colab": {
          "base_uri": "https://localhost:8080/",
          "height": 34
        },
        "outputId": "ed22c604-68c4-4f15-8498-a47c50613413"
      },
      "source": [
        "# Task to do\n",
        "INPUT_SHAPE = 5#?\n",
        "N_HIDDEN = 10#?\n",
        "NB_CLASSES = 2#?  \n",
        "\n",
        "\n",
        "#Do not change anything below\n",
        "assert(INPUT_SHAPE == 5), \"Input shape incorrect\"\n",
        "assert(N_HIDDEN == 10), \"Number of hidden neurons incorrect\"\n",
        "assert(NB_CLASSES == 2), \"Number of output units incorrect\"\n",
        "print(\"Great you choose the numbers correctly\")"
      ],
      "execution_count": 2,
      "outputs": [
        {
          "output_type": "stream",
          "text": [
            "Great you choose the numbers correctly\n"
          ],
          "name": "stdout"
        }
      ]
    },
    {
      "cell_type": "code",
      "metadata": {
        "id": "s00urUTcqfZR",
        "colab_type": "code",
        "colab": {}
      },
      "source": [
        "model = built_model(INPUT_SHAPE, N_HIDDEN,NB_CLASSES)"
      ],
      "execution_count": 0,
      "outputs": []
    },
    {
      "cell_type": "markdown",
      "metadata": {
        "id": "mTccrPMNyZF5",
        "colab_type": "text"
      },
      "source": [
        "**Exercise 2** Based on the input, hidden and output units what are the total number of trainable parameters in this model?"
      ]
    },
    {
      "cell_type": "code",
      "metadata": {
        "id": "3DchkRcAyXM6",
        "colab_type": "code",
        "colab": {
          "base_uri": "https://localhost:8080/",
          "height": 34
        },
        "outputId": "90489808-d8a7-4d94-e6e6-186763785561"
      },
      "source": [
        "# Task to do\n",
        "trainable_parameters = 192#?\n",
        "\n",
        "#Do not change anything below\n",
        "assert trainable_parameters==model.count_params(), \"Your answer is incorrect\"\n",
        "print(\"Number of trainable parameters in the model are\", trainable_parameters)"
      ],
      "execution_count": 4,
      "outputs": [
        {
          "output_type": "stream",
          "text": [
            "Number of trainable parameters in the model are 192\n"
          ],
          "name": "stdout"
        }
      ]
    },
    {
      "cell_type": "markdown",
      "metadata": {
        "id": "g33IqZrGzLeW",
        "colab_type": "text"
      },
      "source": [
        "Good work! Let us now visualize the summary of the model created. "
      ]
    },
    {
      "cell_type": "code",
      "metadata": {
        "id": "f4OteoBfx_QH",
        "colab_type": "code",
        "colab": {
          "base_uri": "https://localhost:8080/",
          "height": 260
        },
        "outputId": "a23cf445-2ab4-4dcc-8934-d66661f6c272"
      },
      "source": [
        "model.summary()"
      ],
      "execution_count": 5,
      "outputs": [
        {
          "output_type": "stream",
          "text": [
            "Model: \"sequential\"\n",
            "_________________________________________________________________\n",
            "Layer (type)                 Output Shape              Param #   \n",
            "=================================================================\n",
            "dense_layer (Dense)          (None, 10)                60        \n",
            "_________________________________________________________________\n",
            "dense_layer_2 (Dense)        (None, 10)                110       \n",
            "_________________________________________________________________\n",
            "dense_layer_3 (Dense)        (None, 2)                 22        \n",
            "=================================================================\n",
            "Total params: 192\n",
            "Trainable params: 192\n",
            "Non-trainable params: 0\n",
            "_________________________________________________________________\n"
          ],
          "name": "stdout"
        }
      ]
    },
    {
      "cell_type": "markdown",
      "metadata": {
        "id": "2qeqEE5A3MQl",
        "colab_type": "text"
      },
      "source": [
        "### Part 2: Reading the dataset\n",
        "\n",
        "We will continue with the MNIST dataset. "
      ]
    },
    {
      "cell_type": "code",
      "metadata": {
        "id": "D3OEjwzLyBoO",
        "colab_type": "code",
        "colab": {
          "base_uri": "https://localhost:8080/",
          "height": 72
        },
        "outputId": "2309df89-b9d4-4f4b-b7b2-f80db8653c45"
      },
      "source": [
        "mnist = keras.datasets.mnist\n",
        "(X_train, Y_train), (X_test, Y_test) = mnist.load_data()"
      ],
      "execution_count": 6,
      "outputs": [
        {
          "output_type": "stream",
          "text": [
            "Downloading data from https://storage.googleapis.com/tensorflow/tf-keras-datasets/mnist.npz\n",
            "11493376/11490434 [==============================] - 0s 0us/step\n"
          ],
          "name": "stdout"
        }
      ]
    },
    {
      "cell_type": "code",
      "metadata": {
        "id": "94uZnloL4-lB",
        "colab_type": "code",
        "colab": {}
      },
      "source": [
        "# Processing the data\n",
        "assert(len(X_train.shape)==3), \"The input data is not of the right shape\"\n",
        "RESHAPED = X_train.shape[1]*X_train.shape[2]\n",
        "\n",
        "X_train = X_train.reshape(60000, RESHAPED)\n",
        "X_test = X_test.reshape(10000, RESHAPED)\n",
        "X_train = X_train.astype('float32')\n",
        "X_test = X_test.astype('float32')"
      ],
      "execution_count": 0,
      "outputs": []
    },
    {
      "cell_type": "code",
      "metadata": {
        "id": "BJIMT6sT5Wtd",
        "colab_type": "code",
        "colab": {
          "base_uri": "https://localhost:8080/",
          "height": 52
        },
        "outputId": "26e487c6-3bd9-4b46-a05f-ee7a012e3ce6"
      },
      "source": [
        "# Data Normalization\n",
        "X_train, X_test = X_train / 255.0, X_test / 255.0\n",
        "print(X_train.shape[0], 'train samples')\n",
        "print(X_test.shape[0], 'test samples')"
      ],
      "execution_count": 8,
      "outputs": [
        {
          "output_type": "stream",
          "text": [
            "60000 train samples\n",
            "10000 test samples\n"
          ],
          "name": "stdout"
        }
      ]
    },
    {
      "cell_type": "markdown",
      "metadata": {
        "id": "HIRrNUTj4h_R",
        "colab_type": "text"
      },
      "source": [
        "For the MNIST dataset the number of input and number of output units are fixed. However we can choose different values of hidden units. "
      ]
    },
    {
      "cell_type": "code",
      "metadata": {
        "id": "si1FflpL3_hj",
        "colab_type": "code",
        "colab": {}
      },
      "source": [
        "INPUT_SHAPE = RESHAPED\n",
        "NB_CLASSES = len(set(Y_train))"
      ],
      "execution_count": 0,
      "outputs": []
    },
    {
      "cell_type": "code",
      "metadata": {
        "id": "ISwN58Q48a03",
        "colab_type": "code",
        "colab": {}
      },
      "source": [
        "# one-hot encode\n",
        "Y_train = tf.keras.utils.to_categorical(Y_train, NB_CLASSES)\n",
        "Y_test = tf.keras.utils.to_categorical(Y_test, NB_CLASSES)"
      ],
      "execution_count": 0,
      "outputs": []
    },
    {
      "cell_type": "markdown",
      "metadata": {
        "id": "-gjEx-hQ6Xsv",
        "colab_type": "text"
      },
      "source": [
        "### Part 3: Hyperparameters\n",
        "**Exercise 3:** The aim of this exercise is to understand the affect of changing number of hidden units on the model performance. Change the number of hidden units, and train the model. Compare the model performance in terms of accuracy. What do you understand from this?"
      ]
    },
    {
      "cell_type": "markdown",
      "metadata": {
        "id": "MWggLtWe7MUR",
        "colab_type": "text"
      },
      "source": [
        "**Answer** Please type your answer here (Double click to edit)"
      ]
    },
    {
      "cell_type": "code",
      "metadata": {
        "id": "qscy8jLk6BEA",
        "colab_type": "code",
        "colab": {}
      },
      "source": [
        "# Task to do choose different values for number of hidden units (minimum five different values)\n",
        "N_HIDDEN = 128#? Choose a value"
      ],
      "execution_count": 0,
      "outputs": []
    },
    {
      "cell_type": "code",
      "metadata": {
        "id": "9yG8aKH37krD",
        "colab_type": "code",
        "colab": {
          "base_uri": "https://localhost:8080/",
          "height": 1000
        },
        "outputId": "a5fc754b-0bc5-43db-89b3-5d937967ef24"
      },
      "source": [
        "# You can use the code below or optimize it\n",
        "model = built_model(INPUT_SHAPE,N_HIDDEN, NB_CLASSES)\n",
        "history = model.fit(X_train, Y_train,\n",
        "\t\tbatch_size=128, epochs=50,\n",
        "\t\tverbose=1, validation_split=0.2)\n",
        "\n",
        "# Evaluate the model\n",
        "test_loss, test_acc = model.evaluate(X_test, Y_test)\n",
        "print('Test accuracy: {:.2f} %'.format(test_acc*100))"
      ],
      "execution_count": 12,
      "outputs": [
        {
          "output_type": "stream",
          "text": [
            "Epoch 1/50\n",
            "375/375 [==============================] - 2s 5ms/step - loss: 1.5273 - accuracy: 0.6206 - val_loss: 0.7786 - val_accuracy: 0.8359\n",
            "Epoch 2/50\n",
            "375/375 [==============================] - 1s 4ms/step - loss: 0.6088 - accuracy: 0.8517 - val_loss: 0.4562 - val_accuracy: 0.8842\n",
            "Epoch 3/50\n",
            "375/375 [==============================] - 1s 4ms/step - loss: 0.4405 - accuracy: 0.8826 - val_loss: 0.3753 - val_accuracy: 0.9000\n",
            "Epoch 4/50\n",
            "375/375 [==============================] - 1s 4ms/step - loss: 0.3798 - accuracy: 0.8966 - val_loss: 0.3344 - val_accuracy: 0.9089\n",
            "Epoch 5/50\n",
            "375/375 [==============================] - 1s 4ms/step - loss: 0.3456 - accuracy: 0.9041 - val_loss: 0.3104 - val_accuracy: 0.9144\n",
            "Epoch 6/50\n",
            "375/375 [==============================] - 1s 4ms/step - loss: 0.3223 - accuracy: 0.9089 - val_loss: 0.2928 - val_accuracy: 0.9178\n",
            "Epoch 7/50\n",
            "375/375 [==============================] - 1s 4ms/step - loss: 0.3045 - accuracy: 0.9140 - val_loss: 0.2802 - val_accuracy: 0.9215\n",
            "Epoch 8/50\n",
            "375/375 [==============================] - 1s 4ms/step - loss: 0.2897 - accuracy: 0.9178 - val_loss: 0.2667 - val_accuracy: 0.9253\n",
            "Epoch 9/50\n",
            "375/375 [==============================] - 1s 4ms/step - loss: 0.2770 - accuracy: 0.9215 - val_loss: 0.2573 - val_accuracy: 0.9287\n",
            "Epoch 10/50\n",
            "375/375 [==============================] - 1s 4ms/step - loss: 0.2657 - accuracy: 0.9242 - val_loss: 0.2469 - val_accuracy: 0.9307\n",
            "Epoch 11/50\n",
            "375/375 [==============================] - 1s 4ms/step - loss: 0.2554 - accuracy: 0.9274 - val_loss: 0.2393 - val_accuracy: 0.9335\n",
            "Epoch 12/50\n",
            "375/375 [==============================] - 1s 4ms/step - loss: 0.2459 - accuracy: 0.9302 - val_loss: 0.2316 - val_accuracy: 0.9348\n",
            "Epoch 13/50\n",
            "375/375 [==============================] - 1s 4ms/step - loss: 0.2375 - accuracy: 0.9327 - val_loss: 0.2245 - val_accuracy: 0.9375\n",
            "Epoch 14/50\n",
            "375/375 [==============================] - 1s 4ms/step - loss: 0.2294 - accuracy: 0.9348 - val_loss: 0.2193 - val_accuracy: 0.9395\n",
            "Epoch 15/50\n",
            "375/375 [==============================] - 1s 4ms/step - loss: 0.2219 - accuracy: 0.9373 - val_loss: 0.2122 - val_accuracy: 0.9414\n",
            "Epoch 16/50\n",
            "375/375 [==============================] - 1s 4ms/step - loss: 0.2148 - accuracy: 0.9391 - val_loss: 0.2064 - val_accuracy: 0.9434\n",
            "Epoch 17/50\n",
            "375/375 [==============================] - 1s 4ms/step - loss: 0.2081 - accuracy: 0.9414 - val_loss: 0.2022 - val_accuracy: 0.9446\n",
            "Epoch 18/50\n",
            "375/375 [==============================] - 1s 4ms/step - loss: 0.2017 - accuracy: 0.9425 - val_loss: 0.1955 - val_accuracy: 0.9461\n",
            "Epoch 19/50\n",
            "375/375 [==============================] - 1s 4ms/step - loss: 0.1959 - accuracy: 0.9447 - val_loss: 0.1913 - val_accuracy: 0.9476\n",
            "Epoch 20/50\n",
            "375/375 [==============================] - 1s 4ms/step - loss: 0.1904 - accuracy: 0.9457 - val_loss: 0.1860 - val_accuracy: 0.9489\n",
            "Epoch 21/50\n",
            "375/375 [==============================] - 1s 4ms/step - loss: 0.1853 - accuracy: 0.9473 - val_loss: 0.1824 - val_accuracy: 0.9497\n",
            "Epoch 22/50\n",
            "375/375 [==============================] - 1s 4ms/step - loss: 0.1801 - accuracy: 0.9486 - val_loss: 0.1788 - val_accuracy: 0.9513\n",
            "Epoch 23/50\n",
            "375/375 [==============================] - 1s 4ms/step - loss: 0.1755 - accuracy: 0.9504 - val_loss: 0.1749 - val_accuracy: 0.9515\n",
            "Epoch 24/50\n",
            "375/375 [==============================] - 1s 4ms/step - loss: 0.1710 - accuracy: 0.9517 - val_loss: 0.1712 - val_accuracy: 0.9528\n",
            "Epoch 25/50\n",
            "375/375 [==============================] - 1s 4ms/step - loss: 0.1666 - accuracy: 0.9530 - val_loss: 0.1686 - val_accuracy: 0.9535\n",
            "Epoch 26/50\n",
            "375/375 [==============================] - 1s 4ms/step - loss: 0.1625 - accuracy: 0.9536 - val_loss: 0.1653 - val_accuracy: 0.9545\n",
            "Epoch 27/50\n",
            "375/375 [==============================] - 1s 4ms/step - loss: 0.1586 - accuracy: 0.9556 - val_loss: 0.1624 - val_accuracy: 0.9555\n",
            "Epoch 28/50\n",
            "375/375 [==============================] - 1s 4ms/step - loss: 0.1549 - accuracy: 0.9562 - val_loss: 0.1594 - val_accuracy: 0.9556\n",
            "Epoch 29/50\n",
            "375/375 [==============================] - 1s 4ms/step - loss: 0.1513 - accuracy: 0.9572 - val_loss: 0.1565 - val_accuracy: 0.9567\n",
            "Epoch 30/50\n",
            "375/375 [==============================] - 1s 4ms/step - loss: 0.1478 - accuracy: 0.9581 - val_loss: 0.1544 - val_accuracy: 0.9560\n",
            "Epoch 31/50\n",
            "375/375 [==============================] - 1s 4ms/step - loss: 0.1445 - accuracy: 0.9585 - val_loss: 0.1515 - val_accuracy: 0.9582\n",
            "Epoch 32/50\n",
            "375/375 [==============================] - 1s 4ms/step - loss: 0.1412 - accuracy: 0.9600 - val_loss: 0.1496 - val_accuracy: 0.9595\n",
            "Epoch 33/50\n",
            "375/375 [==============================] - 1s 4ms/step - loss: 0.1384 - accuracy: 0.9610 - val_loss: 0.1479 - val_accuracy: 0.9602\n",
            "Epoch 34/50\n",
            "375/375 [==============================] - 1s 4ms/step - loss: 0.1355 - accuracy: 0.9615 - val_loss: 0.1451 - val_accuracy: 0.9597\n",
            "Epoch 35/50\n",
            "375/375 [==============================] - 1s 4ms/step - loss: 0.1326 - accuracy: 0.9625 - val_loss: 0.1430 - val_accuracy: 0.9607\n",
            "Epoch 36/50\n",
            "375/375 [==============================] - 1s 4ms/step - loss: 0.1298 - accuracy: 0.9631 - val_loss: 0.1423 - val_accuracy: 0.9618\n",
            "Epoch 37/50\n",
            "375/375 [==============================] - 1s 4ms/step - loss: 0.1274 - accuracy: 0.9640 - val_loss: 0.1399 - val_accuracy: 0.9615\n",
            "Epoch 38/50\n",
            "375/375 [==============================] - 1s 4ms/step - loss: 0.1247 - accuracy: 0.9650 - val_loss: 0.1386 - val_accuracy: 0.9616\n",
            "Epoch 39/50\n",
            "375/375 [==============================] - 1s 4ms/step - loss: 0.1224 - accuracy: 0.9658 - val_loss: 0.1360 - val_accuracy: 0.9621\n",
            "Epoch 40/50\n",
            "375/375 [==============================] - 1s 4ms/step - loss: 0.1201 - accuracy: 0.9664 - val_loss: 0.1349 - val_accuracy: 0.9622\n",
            "Epoch 41/50\n",
            "375/375 [==============================] - 1s 4ms/step - loss: 0.1177 - accuracy: 0.9672 - val_loss: 0.1341 - val_accuracy: 0.9631\n",
            "Epoch 42/50\n",
            "375/375 [==============================] - 1s 4ms/step - loss: 0.1157 - accuracy: 0.9677 - val_loss: 0.1316 - val_accuracy: 0.9631\n",
            "Epoch 43/50\n",
            "375/375 [==============================] - 1s 4ms/step - loss: 0.1133 - accuracy: 0.9683 - val_loss: 0.1299 - val_accuracy: 0.9637\n",
            "Epoch 44/50\n",
            "375/375 [==============================] - 1s 4ms/step - loss: 0.1113 - accuracy: 0.9686 - val_loss: 0.1295 - val_accuracy: 0.9640\n",
            "Epoch 45/50\n",
            "375/375 [==============================] - 1s 4ms/step - loss: 0.1093 - accuracy: 0.9697 - val_loss: 0.1277 - val_accuracy: 0.9647\n",
            "Epoch 46/50\n",
            "375/375 [==============================] - 1s 4ms/step - loss: 0.1073 - accuracy: 0.9702 - val_loss: 0.1265 - val_accuracy: 0.9649\n",
            "Epoch 47/50\n",
            "375/375 [==============================] - 1s 4ms/step - loss: 0.1052 - accuracy: 0.9708 - val_loss: 0.1266 - val_accuracy: 0.9644\n",
            "Epoch 48/50\n",
            "375/375 [==============================] - 1s 4ms/step - loss: 0.1035 - accuracy: 0.9714 - val_loss: 0.1254 - val_accuracy: 0.9654\n",
            "Epoch 49/50\n",
            "375/375 [==============================] - 1s 4ms/step - loss: 0.1019 - accuracy: 0.9718 - val_loss: 0.1226 - val_accuracy: 0.9651\n",
            "Epoch 50/50\n",
            "375/375 [==============================] - 1s 4ms/step - loss: 0.0999 - accuracy: 0.9727 - val_loss: 0.1215 - val_accuracy: 0.9657\n",
            "313/313 [==============================] - 1s 3ms/step - loss: 0.1205 - accuracy: 0.9648\n",
            "Test accuracy: 96.48 %\n"
          ],
          "name": "stdout"
        }
      ]
    },
    {
      "cell_type": "markdown",
      "metadata": {
        "id": "cqfMXnlJA02g",
        "colab_type": "text"
      },
      "source": [
        "**Exercise 4:** Let us now repeat the same after changing the batch size (minimum 5 different values). Compare the model performance in terms of accuracy. What do you understand from this?"
      ]
    },
    {
      "cell_type": "markdown",
      "metadata": {
        "colab_type": "text",
        "id": "9z0TctxjB0KA"
      },
      "source": [
        "**Answer** Please type your answer here (Double click to edit)"
      ]
    },
    {
      "cell_type": "code",
      "metadata": {
        "id": "TXO0QZtS_mQ_",
        "colab_type": "code",
        "colab": {}
      },
      "source": [
        "# Task to do choose different values for batch size (minimum five different values)\n",
        "BATCH_SIZE =   128 #? Choose a value"
      ],
      "execution_count": 0,
      "outputs": []
    },
    {
      "cell_type": "code",
      "metadata": {
        "id": "ssu3rT0MBdUD",
        "colab_type": "code",
        "colab": {
          "base_uri": "https://localhost:8080/",
          "height": 1000
        },
        "outputId": "ca5016fe-1e0e-4be3-e657-a12d945afd49"
      },
      "source": [
        "# You can use the code below or optimize it\n",
        "model = built_model(INPUT_SHAPE,128, NB_CLASSES)\n",
        "history = model.fit(X_train, Y_train,\n",
        "\t\tbatch_size=BATCH_SIZE, epochs=50,\n",
        "\t\tverbose=1, validation_split=0.2)\n",
        "\n",
        "\n",
        "# Evaluate the model\n",
        "test_loss, test_acc = model.evaluate(X_test, Y_test)\n",
        "print('Test accuracy: {:.2f} %'.format(test_acc*100))"
      ],
      "execution_count": 14,
      "outputs": [
        {
          "output_type": "stream",
          "text": [
            "Epoch 1/50\n",
            "375/375 [==============================] - 2s 4ms/step - loss: 1.4381 - accuracy: 0.6284 - val_loss: 0.7544 - val_accuracy: 0.8209\n",
            "Epoch 2/50\n",
            "375/375 [==============================] - 1s 4ms/step - loss: 0.6094 - accuracy: 0.8454 - val_loss: 0.4632 - val_accuracy: 0.8795\n",
            "Epoch 3/50\n",
            "375/375 [==============================] - 1s 4ms/step - loss: 0.4435 - accuracy: 0.8807 - val_loss: 0.3770 - val_accuracy: 0.8987\n",
            "Epoch 4/50\n",
            "375/375 [==============================] - 2s 4ms/step - loss: 0.3799 - accuracy: 0.8952 - val_loss: 0.3381 - val_accuracy: 0.9056\n",
            "Epoch 5/50\n",
            "375/375 [==============================] - 2s 4ms/step - loss: 0.3454 - accuracy: 0.9035 - val_loss: 0.3113 - val_accuracy: 0.9130\n",
            "Epoch 6/50\n",
            "375/375 [==============================] - 2s 4ms/step - loss: 0.3223 - accuracy: 0.9083 - val_loss: 0.2939 - val_accuracy: 0.9176\n",
            "Epoch 7/50\n",
            "375/375 [==============================] - 1s 4ms/step - loss: 0.3047 - accuracy: 0.9133 - val_loss: 0.2828 - val_accuracy: 0.9194\n",
            "Epoch 8/50\n",
            "375/375 [==============================] - 1s 4ms/step - loss: 0.2905 - accuracy: 0.9171 - val_loss: 0.2699 - val_accuracy: 0.9224\n",
            "Epoch 9/50\n",
            "375/375 [==============================] - 1s 4ms/step - loss: 0.2782 - accuracy: 0.9204 - val_loss: 0.2600 - val_accuracy: 0.9272\n",
            "Epoch 10/50\n",
            "375/375 [==============================] - 1s 4ms/step - loss: 0.2675 - accuracy: 0.9234 - val_loss: 0.2506 - val_accuracy: 0.9294\n",
            "Epoch 11/50\n",
            "375/375 [==============================] - 1s 4ms/step - loss: 0.2577 - accuracy: 0.9271 - val_loss: 0.2434 - val_accuracy: 0.9315\n",
            "Epoch 12/50\n",
            "375/375 [==============================] - 1s 4ms/step - loss: 0.2488 - accuracy: 0.9290 - val_loss: 0.2364 - val_accuracy: 0.9328\n",
            "Epoch 13/50\n",
            "375/375 [==============================] - 1s 4ms/step - loss: 0.2406 - accuracy: 0.9316 - val_loss: 0.2296 - val_accuracy: 0.9347\n",
            "Epoch 14/50\n",
            "375/375 [==============================] - 1s 4ms/step - loss: 0.2328 - accuracy: 0.9339 - val_loss: 0.2231 - val_accuracy: 0.9370\n",
            "Epoch 15/50\n",
            "375/375 [==============================] - 1s 4ms/step - loss: 0.2257 - accuracy: 0.9357 - val_loss: 0.2174 - val_accuracy: 0.9391\n",
            "Epoch 16/50\n",
            "375/375 [==============================] - 1s 4ms/step - loss: 0.2189 - accuracy: 0.9382 - val_loss: 0.2124 - val_accuracy: 0.9412\n",
            "Epoch 17/50\n",
            "375/375 [==============================] - 1s 4ms/step - loss: 0.2125 - accuracy: 0.9395 - val_loss: 0.2071 - val_accuracy: 0.9419\n",
            "Epoch 18/50\n",
            "375/375 [==============================] - 1s 4ms/step - loss: 0.2067 - accuracy: 0.9408 - val_loss: 0.2028 - val_accuracy: 0.9442\n",
            "Epoch 19/50\n",
            "375/375 [==============================] - 1s 4ms/step - loss: 0.2007 - accuracy: 0.9429 - val_loss: 0.1977 - val_accuracy: 0.9460\n",
            "Epoch 20/50\n",
            "375/375 [==============================] - 1s 4ms/step - loss: 0.1955 - accuracy: 0.9444 - val_loss: 0.1936 - val_accuracy: 0.9476\n",
            "Epoch 21/50\n",
            "375/375 [==============================] - 1s 4ms/step - loss: 0.1901 - accuracy: 0.9459 - val_loss: 0.1889 - val_accuracy: 0.9488\n",
            "Epoch 22/50\n",
            "375/375 [==============================] - 1s 4ms/step - loss: 0.1852 - accuracy: 0.9472 - val_loss: 0.1850 - val_accuracy: 0.9489\n",
            "Epoch 23/50\n",
            "375/375 [==============================] - 1s 4ms/step - loss: 0.1803 - accuracy: 0.9485 - val_loss: 0.1808 - val_accuracy: 0.9512\n",
            "Epoch 24/50\n",
            "375/375 [==============================] - 1s 4ms/step - loss: 0.1757 - accuracy: 0.9498 - val_loss: 0.1785 - val_accuracy: 0.9513\n",
            "Epoch 25/50\n",
            "375/375 [==============================] - 1s 4ms/step - loss: 0.1715 - accuracy: 0.9511 - val_loss: 0.1751 - val_accuracy: 0.9522\n",
            "Epoch 26/50\n",
            "375/375 [==============================] - 1s 4ms/step - loss: 0.1671 - accuracy: 0.9519 - val_loss: 0.1712 - val_accuracy: 0.9538\n",
            "Epoch 27/50\n",
            "375/375 [==============================] - 1s 4ms/step - loss: 0.1630 - accuracy: 0.9533 - val_loss: 0.1698 - val_accuracy: 0.9548\n",
            "Epoch 28/50\n",
            "375/375 [==============================] - 1s 4ms/step - loss: 0.1593 - accuracy: 0.9544 - val_loss: 0.1651 - val_accuracy: 0.9548\n",
            "Epoch 29/50\n",
            "375/375 [==============================] - 1s 4ms/step - loss: 0.1556 - accuracy: 0.9553 - val_loss: 0.1628 - val_accuracy: 0.9557\n",
            "Epoch 30/50\n",
            "375/375 [==============================] - 1s 4ms/step - loss: 0.1521 - accuracy: 0.9566 - val_loss: 0.1589 - val_accuracy: 0.9568\n",
            "Epoch 31/50\n",
            "375/375 [==============================] - 1s 4ms/step - loss: 0.1484 - accuracy: 0.9573 - val_loss: 0.1579 - val_accuracy: 0.9571\n",
            "Epoch 32/50\n",
            "375/375 [==============================] - 1s 4ms/step - loss: 0.1453 - accuracy: 0.9582 - val_loss: 0.1544 - val_accuracy: 0.9570\n",
            "Epoch 33/50\n",
            "375/375 [==============================] - 1s 4ms/step - loss: 0.1420 - accuracy: 0.9593 - val_loss: 0.1520 - val_accuracy: 0.9584\n",
            "Epoch 34/50\n",
            "375/375 [==============================] - 1s 4ms/step - loss: 0.1389 - accuracy: 0.9604 - val_loss: 0.1506 - val_accuracy: 0.9584\n",
            "Epoch 35/50\n",
            "375/375 [==============================] - 1s 4ms/step - loss: 0.1360 - accuracy: 0.9607 - val_loss: 0.1494 - val_accuracy: 0.9592\n",
            "Epoch 36/50\n",
            "375/375 [==============================] - 1s 4ms/step - loss: 0.1332 - accuracy: 0.9618 - val_loss: 0.1459 - val_accuracy: 0.9597\n",
            "Epoch 37/50\n",
            "375/375 [==============================] - 1s 4ms/step - loss: 0.1304 - accuracy: 0.9625 - val_loss: 0.1435 - val_accuracy: 0.9603\n",
            "Epoch 38/50\n",
            "375/375 [==============================] - 1s 4ms/step - loss: 0.1278 - accuracy: 0.9630 - val_loss: 0.1421 - val_accuracy: 0.9602\n",
            "Epoch 39/50\n",
            "375/375 [==============================] - 1s 4ms/step - loss: 0.1252 - accuracy: 0.9637 - val_loss: 0.1407 - val_accuracy: 0.9607\n",
            "Epoch 40/50\n",
            "375/375 [==============================] - 1s 4ms/step - loss: 0.1228 - accuracy: 0.9644 - val_loss: 0.1382 - val_accuracy: 0.9607\n",
            "Epoch 41/50\n",
            "375/375 [==============================] - 1s 4ms/step - loss: 0.1203 - accuracy: 0.9652 - val_loss: 0.1363 - val_accuracy: 0.9622\n",
            "Epoch 42/50\n",
            "375/375 [==============================] - 1s 4ms/step - loss: 0.1179 - accuracy: 0.9665 - val_loss: 0.1343 - val_accuracy: 0.9628\n",
            "Epoch 43/50\n",
            "375/375 [==============================] - 1s 4ms/step - loss: 0.1159 - accuracy: 0.9666 - val_loss: 0.1339 - val_accuracy: 0.9628\n",
            "Epoch 44/50\n",
            "375/375 [==============================] - 1s 4ms/step - loss: 0.1137 - accuracy: 0.9675 - val_loss: 0.1329 - val_accuracy: 0.9618\n",
            "Epoch 45/50\n",
            "375/375 [==============================] - 1s 4ms/step - loss: 0.1116 - accuracy: 0.9680 - val_loss: 0.1305 - val_accuracy: 0.9624\n",
            "Epoch 46/50\n",
            "375/375 [==============================] - 1s 4ms/step - loss: 0.1095 - accuracy: 0.9685 - val_loss: 0.1296 - val_accuracy: 0.9635\n",
            "Epoch 47/50\n",
            "375/375 [==============================] - 1s 4ms/step - loss: 0.1075 - accuracy: 0.9696 - val_loss: 0.1273 - val_accuracy: 0.9648\n",
            "Epoch 48/50\n",
            "375/375 [==============================] - 1s 4ms/step - loss: 0.1056 - accuracy: 0.9702 - val_loss: 0.1269 - val_accuracy: 0.9639\n",
            "Epoch 49/50\n",
            "375/375 [==============================] - 1s 4ms/step - loss: 0.1039 - accuracy: 0.9705 - val_loss: 0.1247 - val_accuracy: 0.9647\n",
            "Epoch 50/50\n",
            "375/375 [==============================] - 1s 4ms/step - loss: 0.1021 - accuracy: 0.9710 - val_loss: 0.1256 - val_accuracy: 0.9646\n",
            "313/313 [==============================] - 1s 3ms/step - loss: 0.1244 - accuracy: 0.9632\n",
            "Test accuracy: 96.32 %\n"
          ],
          "name": "stdout"
        }
      ]
    },
    {
      "cell_type": "markdown",
      "metadata": {
        "colab_type": "text",
        "id": "8L802oqkCBg8"
      },
      "source": [
        "**Exercise 4:** And now we do the same with different optimizers available in TensorFlow. Change the optimizers and compare the model performance in terms of accuracy. What do you understand from this?"
      ]
    },
    {
      "cell_type": "markdown",
      "metadata": {
        "colab_type": "text",
        "id": "1M0Dx7O2CEW8"
      },
      "source": [
        "**Answer** Please type your answer here (Double click to edit)"
      ]
    },
    {
      "cell_type": "code",
      "metadata": {
        "id": "2DsZiC8CB7j5",
        "colab_type": "code",
        "colab": {}
      },
      "source": [
        "# Task to do choose different optimizers\n",
        "opt =   'SGD' #? Choose from available optimizers"
      ],
      "execution_count": 0,
      "outputs": []
    },
    {
      "cell_type": "code",
      "metadata": {
        "id": "DkcTxGl4CqK5",
        "colab_type": "code",
        "colab": {
          "base_uri": "https://localhost:8080/",
          "height": 1000
        },
        "outputId": "08a80b96-6290-4684-ded4-c1114008a145"
      },
      "source": [
        "# You can use the code below or optimize it\n",
        "N_HIDDEN = 128\n",
        "model = built_model(INPUT_SHAPE,N_HIDDEN, NB_CLASSES, opt)\n",
        "history = model.fit(X_train, Y_train,\n",
        "\t\tbatch_size=128, epochs=50,\n",
        "\t\tverbose=1, validation_split=0.2)\n",
        "\n",
        "# Evaluate the model\n",
        "test_loss, test_acc = model.evaluate(X_test, Y_test)\n",
        "print('Test accuracy: {:.2f} %'.format(test_acc*100))"
      ],
      "execution_count": 16,
      "outputs": [
        {
          "output_type": "stream",
          "text": [
            "Epoch 1/50\n",
            "375/375 [==============================] - 2s 4ms/step - loss: 1.4635 - accuracy: 0.6217 - val_loss: 0.7561 - val_accuracy: 0.8299\n",
            "Epoch 2/50\n",
            "375/375 [==============================] - 2s 4ms/step - loss: 0.6040 - accuracy: 0.8487 - val_loss: 0.4638 - val_accuracy: 0.8777\n",
            "Epoch 3/50\n",
            "375/375 [==============================] - 2s 4ms/step - loss: 0.4426 - accuracy: 0.8802 - val_loss: 0.3802 - val_accuracy: 0.8961\n",
            "Epoch 4/50\n",
            "375/375 [==============================] - 2s 4ms/step - loss: 0.3799 - accuracy: 0.8944 - val_loss: 0.3391 - val_accuracy: 0.9038\n",
            "Epoch 5/50\n",
            "375/375 [==============================] - 2s 4ms/step - loss: 0.3448 - accuracy: 0.9028 - val_loss: 0.3134 - val_accuracy: 0.9122\n",
            "Epoch 6/50\n",
            "375/375 [==============================] - 2s 4ms/step - loss: 0.3207 - accuracy: 0.9085 - val_loss: 0.2950 - val_accuracy: 0.9184\n",
            "Epoch 7/50\n",
            "375/375 [==============================] - 2s 4ms/step - loss: 0.3022 - accuracy: 0.9143 - val_loss: 0.2806 - val_accuracy: 0.9210\n",
            "Epoch 8/50\n",
            "375/375 [==============================] - 1s 4ms/step - loss: 0.2873 - accuracy: 0.9180 - val_loss: 0.2684 - val_accuracy: 0.9248\n",
            "Epoch 9/50\n",
            "375/375 [==============================] - 1s 4ms/step - loss: 0.2742 - accuracy: 0.9218 - val_loss: 0.2573 - val_accuracy: 0.9286\n",
            "Epoch 10/50\n",
            "375/375 [==============================] - 1s 4ms/step - loss: 0.2632 - accuracy: 0.9250 - val_loss: 0.2488 - val_accuracy: 0.9301\n",
            "Epoch 11/50\n",
            "375/375 [==============================] - 1s 4ms/step - loss: 0.2532 - accuracy: 0.9276 - val_loss: 0.2395 - val_accuracy: 0.9334\n",
            "Epoch 12/50\n",
            "375/375 [==============================] - 1s 4ms/step - loss: 0.2438 - accuracy: 0.9313 - val_loss: 0.2318 - val_accuracy: 0.9355\n",
            "Epoch 13/50\n",
            "375/375 [==============================] - 1s 4ms/step - loss: 0.2352 - accuracy: 0.9337 - val_loss: 0.2264 - val_accuracy: 0.9364\n",
            "Epoch 14/50\n",
            "375/375 [==============================] - 1s 4ms/step - loss: 0.2278 - accuracy: 0.9359 - val_loss: 0.2192 - val_accuracy: 0.9386\n",
            "Epoch 15/50\n",
            "375/375 [==============================] - 1s 4ms/step - loss: 0.2204 - accuracy: 0.9373 - val_loss: 0.2135 - val_accuracy: 0.9408\n",
            "Epoch 16/50\n",
            "375/375 [==============================] - 1s 4ms/step - loss: 0.2135 - accuracy: 0.9387 - val_loss: 0.2091 - val_accuracy: 0.9432\n",
            "Epoch 17/50\n",
            "375/375 [==============================] - 1s 4ms/step - loss: 0.2074 - accuracy: 0.9415 - val_loss: 0.2028 - val_accuracy: 0.9445\n",
            "Epoch 18/50\n",
            "375/375 [==============================] - 1s 4ms/step - loss: 0.2014 - accuracy: 0.9424 - val_loss: 0.1990 - val_accuracy: 0.9457\n",
            "Epoch 19/50\n",
            "375/375 [==============================] - 1s 4ms/step - loss: 0.1958 - accuracy: 0.9446 - val_loss: 0.1942 - val_accuracy: 0.9474\n",
            "Epoch 20/50\n",
            "375/375 [==============================] - 1s 4ms/step - loss: 0.1906 - accuracy: 0.9453 - val_loss: 0.1909 - val_accuracy: 0.9462\n",
            "Epoch 21/50\n",
            "375/375 [==============================] - 1s 4ms/step - loss: 0.1855 - accuracy: 0.9467 - val_loss: 0.1855 - val_accuracy: 0.9484\n",
            "Epoch 22/50\n",
            "375/375 [==============================] - 1s 4ms/step - loss: 0.1809 - accuracy: 0.9485 - val_loss: 0.1815 - val_accuracy: 0.9497\n",
            "Epoch 23/50\n",
            "375/375 [==============================] - 1s 4ms/step - loss: 0.1761 - accuracy: 0.9496 - val_loss: 0.1784 - val_accuracy: 0.9512\n",
            "Epoch 24/50\n",
            "375/375 [==============================] - 1s 4ms/step - loss: 0.1717 - accuracy: 0.9513 - val_loss: 0.1750 - val_accuracy: 0.9517\n",
            "Epoch 25/50\n",
            "375/375 [==============================] - 1s 4ms/step - loss: 0.1677 - accuracy: 0.9522 - val_loss: 0.1721 - val_accuracy: 0.9522\n",
            "Epoch 26/50\n",
            "375/375 [==============================] - 1s 4ms/step - loss: 0.1637 - accuracy: 0.9532 - val_loss: 0.1691 - val_accuracy: 0.9535\n",
            "Epoch 27/50\n",
            "375/375 [==============================] - 1s 4ms/step - loss: 0.1600 - accuracy: 0.9541 - val_loss: 0.1664 - val_accuracy: 0.9537\n",
            "Epoch 28/50\n",
            "375/375 [==============================] - 1s 4ms/step - loss: 0.1563 - accuracy: 0.9555 - val_loss: 0.1637 - val_accuracy: 0.9550\n",
            "Epoch 29/50\n",
            "375/375 [==============================] - 1s 4ms/step - loss: 0.1527 - accuracy: 0.9560 - val_loss: 0.1606 - val_accuracy: 0.9547\n",
            "Epoch 30/50\n",
            "375/375 [==============================] - 1s 4ms/step - loss: 0.1494 - accuracy: 0.9578 - val_loss: 0.1582 - val_accuracy: 0.9554\n",
            "Epoch 31/50\n",
            "375/375 [==============================] - 1s 4ms/step - loss: 0.1461 - accuracy: 0.9586 - val_loss: 0.1559 - val_accuracy: 0.9567\n",
            "Epoch 32/50\n",
            "375/375 [==============================] - 1s 4ms/step - loss: 0.1431 - accuracy: 0.9596 - val_loss: 0.1530 - val_accuracy: 0.9573\n",
            "Epoch 33/50\n",
            "375/375 [==============================] - 1s 4ms/step - loss: 0.1401 - accuracy: 0.9602 - val_loss: 0.1505 - val_accuracy: 0.9584\n",
            "Epoch 34/50\n",
            "375/375 [==============================] - 1s 4ms/step - loss: 0.1370 - accuracy: 0.9608 - val_loss: 0.1487 - val_accuracy: 0.9591\n",
            "Epoch 35/50\n",
            "375/375 [==============================] - 1s 4ms/step - loss: 0.1343 - accuracy: 0.9620 - val_loss: 0.1463 - val_accuracy: 0.9603\n",
            "Epoch 36/50\n",
            "375/375 [==============================] - 1s 4ms/step - loss: 0.1317 - accuracy: 0.9626 - val_loss: 0.1445 - val_accuracy: 0.9599\n",
            "Epoch 37/50\n",
            "375/375 [==============================] - 1s 4ms/step - loss: 0.1290 - accuracy: 0.9634 - val_loss: 0.1432 - val_accuracy: 0.9607\n",
            "Epoch 38/50\n",
            "375/375 [==============================] - 1s 4ms/step - loss: 0.1265 - accuracy: 0.9640 - val_loss: 0.1420 - val_accuracy: 0.9596\n",
            "Epoch 39/50\n",
            "375/375 [==============================] - 1s 4ms/step - loss: 0.1239 - accuracy: 0.9652 - val_loss: 0.1392 - val_accuracy: 0.9613\n",
            "Epoch 40/50\n",
            "375/375 [==============================] - 1s 4ms/step - loss: 0.1218 - accuracy: 0.9658 - val_loss: 0.1376 - val_accuracy: 0.9620\n",
            "Epoch 41/50\n",
            "375/375 [==============================] - 1s 4ms/step - loss: 0.1193 - accuracy: 0.9665 - val_loss: 0.1361 - val_accuracy: 0.9621\n",
            "Epoch 42/50\n",
            "375/375 [==============================] - 1s 4ms/step - loss: 0.1172 - accuracy: 0.9674 - val_loss: 0.1350 - val_accuracy: 0.9613\n",
            "Epoch 43/50\n",
            "375/375 [==============================] - 1s 4ms/step - loss: 0.1150 - accuracy: 0.9677 - val_loss: 0.1341 - val_accuracy: 0.9633\n",
            "Epoch 44/50\n",
            "375/375 [==============================] - 1s 4ms/step - loss: 0.1129 - accuracy: 0.9681 - val_loss: 0.1317 - val_accuracy: 0.9634\n",
            "Epoch 45/50\n",
            "375/375 [==============================] - 1s 4ms/step - loss: 0.1108 - accuracy: 0.9686 - val_loss: 0.1305 - val_accuracy: 0.9631\n",
            "Epoch 46/50\n",
            "375/375 [==============================] - 1s 4ms/step - loss: 0.1091 - accuracy: 0.9696 - val_loss: 0.1291 - val_accuracy: 0.9646\n",
            "Epoch 47/50\n",
            "375/375 [==============================] - 1s 4ms/step - loss: 0.1068 - accuracy: 0.9702 - val_loss: 0.1292 - val_accuracy: 0.9642\n",
            "Epoch 48/50\n",
            "375/375 [==============================] - 1s 4ms/step - loss: 0.1051 - accuracy: 0.9706 - val_loss: 0.1260 - val_accuracy: 0.9644\n",
            "Epoch 49/50\n",
            "375/375 [==============================] - 1s 4ms/step - loss: 0.1033 - accuracy: 0.9709 - val_loss: 0.1252 - val_accuracy: 0.9642\n",
            "Epoch 50/50\n",
            "375/375 [==============================] - 1s 4ms/step - loss: 0.1015 - accuracy: 0.9718 - val_loss: 0.1241 - val_accuracy: 0.9644\n",
            "313/313 [==============================] - 1s 3ms/step - loss: 0.1187 - accuracy: 0.9657\n",
            "Test accuracy: 96.57 %\n"
          ],
          "name": "stdout"
        }
      ]
    },
    {
      "cell_type": "markdown",
      "metadata": {
        "id": "-46TwuMnDdIB",
        "colab_type": "text"
      },
      "source": [
        "### Optional Exercise\n",
        "\n",
        "Repeat the above exercises (3-5) with different dataset. You can use Fashion MNIST another popular ML dataset. Are the results same? Comment.\n",
        "\n",
        "To download fashion mnist you can use the following code:\n",
        "\n",
        "```\n",
        "fashion_mnist = keras.datasets.fashion_mnist\n",
        "\n",
        "(X_train, Y_train), (X_test, Y_test) = fashion_mnist.load_data()\n",
        "```"
      ]
    },
    {
      "cell_type": "code",
      "metadata": {
        "id": "kqc0ID8XDLCN",
        "colab_type": "code",
        "colab": {}
      },
      "source": [
        ""
      ],
      "execution_count": 0,
      "outputs": []
    }
  ]
}