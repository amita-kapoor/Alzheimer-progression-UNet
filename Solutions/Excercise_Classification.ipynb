{
  "nbformat": 4,
  "nbformat_minor": 0,
  "metadata": {
    "accelerator": "GPU",
    "colab": {
      "name": "Excercise_Classification.ipynb",
      "provenance": [],
      "toc_visible": true,
      "include_colab_link": true
    },
    "kernelspec": {
      "display_name": "Python 3",
      "language": "python",
      "name": "python3"
    },
    "language_info": {
      "codemirror_mode": {
        "name": "ipython",
        "version": 3
      },
      "file_extension": ".py",
      "mimetype": "text/x-python",
      "name": "python",
      "nbconvert_exporter": "python",
      "pygments_lexer": "ipython3",
      "version": "3.7.4"
    }
  },
  "cells": [
    {
      "cell_type": "markdown",
      "metadata": {
        "id": "view-in-github",
        "colab_type": "text"
      },
      "source": [
        "<a href=\"https://colab.research.google.com/github/amita-kapoor/UO-Artificial-Intelligence-Cloud-and-Edge-Implementations/blob/master/Solutions/Excercise_Classification.ipynb\" target=\"_parent\"><img src=\"https://colab.research.google.com/assets/colab-badge.svg\" alt=\"Open In Colab\"/></a>"
      ]
    },
    {
      "cell_type": "markdown",
      "metadata": {
        "colab_type": "text",
        "id": "rZDq2nwZp2dv"
      },
      "source": [
        "## Classification Exercises\n",
        "\n",
        "For these exercises use the GPU in Google Colab. To enable GPU go to top menu bar in **EDIT** menu go to **NoteBook Settings**. Once you click it a window opens, in the hardware accelerator dropdown menu choose GPU. \n",
        "\n",
        "![alt](https://drive.google.com/uc?id=1rZf9pvb5rqY4rFwYqUhdmPkSrzaXBhPg)\n",
        "\n",
        "### Introduction\n",
        "\n",
        "We have already learned about Neural Networks and discussed Multilayered Perceptrons in depth. In this exercise, we will be testing our understanding of the underlying concepts with special emphasis to [Hyperparameter tuning](https://towardsdatascience.com/understanding-hyperparameters-and-its-optimisation-techniques-f0debba07568). \n",
        "\n",
        "After doing these exercises, you would be able to better understand:\n",
        "\n",
        "* The architecture of a neural network\n",
        "* The parameters (training) of a neural network and how they change with changing architecture.\n",
        "* Hyperparameter tuning: batch size, number of hidden units and optimizers.\n",
        "\n",
        "We encourage you to work with other hyperparameters as well like learning rate, number of layers, activation functions etc.  And in the end there is an optional exercise, where you can see if what you observe for the MNIST dataset is true for other dataset as well.\n",
        "\n",
        "The Notebook is divided in three parts: Building the Model, Reading the dataset and Hyperparameters. It contains five exercises in total and one additional optional exercise:\n",
        "\n",
        "* [Exercise 1](#ex_1)\n",
        "* [Exercise 2](#ex_2)\n",
        "* [Exercise 3](#ex_3)\n",
        "* [Exercise 4](#ex_4)\n",
        "* [Exercise 5](#ex_5)\n",
        "* [Optional Exercise](#ex_O)\n",
        "\n",
        "\n",
        "You have to do all the five exercises. Run the code given with each exercise and write down your answer just below each exercise. Wish you all the best.\n",
        "\n",
        "\n",
        "### Part 1: Building the model\n",
        "Below we define a function to built a neural network model using TensorFlow Keras. "
      ]
    },
    {
      "cell_type": "code",
      "metadata": {
        "colab_type": "code",
        "id": "3mhZ0xlMRqO6",
        "colab": {}
      },
      "source": [
        "import tensorflow as tf\n",
        "import numpy as np\n",
        "from tensorflow import keras\n",
        "\n",
        "def built_model(input_shape, n_hidden, nb_classes, optimizer='SGD'):\n",
        "  '''\n",
        "  The function builds a fully connected neural network with two hidden layers\n",
        "  Arguments:\n",
        "  input_shape: The number of inputs to the neural network\n",
        "  n_hidden: Number of hidden neurons in the hidden layers\n",
        "  nb_classes: Number of neurons in the output layer\n",
        "  optimizer: The optimizer used to train the model. \n",
        "  By default we use Stochastic Gradient Descent.\n",
        "  \n",
        "  Returns:\n",
        "  The function returns A model with loss and optimizer defined\n",
        "  '''  \n",
        "  model = tf.keras.models.Sequential()\n",
        "  ## First Hidden layer  \n",
        "  model.add(keras.layers.Dense(n_hidden,\n",
        "       input_shape=(input_shape,),\n",
        "       name='dense_layer', activation='relu'))\n",
        "    \n",
        "  ## Second Hidden Layer\n",
        "  model.add(keras.layers.Dense(n_hidden,\n",
        "        name='dense_layer_2', activation='relu'))\n",
        "    \n",
        "  ## Output Layer  \n",
        "  model.add(keras.layers.Dense(nb_classes,\n",
        "        name='dense_layer_3', activation='softmax'))\n",
        "    \n",
        "  ## Define loss and optimizer \n",
        "  model.compile(optimizer=optimizer, \n",
        "              loss='categorical_crossentropy',\n",
        "              metrics=['accuracy'])\n",
        "  return model\n"
      ],
      "execution_count": 1,
      "outputs": []
    },
    {
      "cell_type": "markdown",
      "metadata": {
        "colab_type": "text",
        "id": "q5E0fCSDrwu_"
      },
      "source": [
        "<a id='ex_1'></a>\n",
        "**Exercise 1** What should be the values of the arguments `INPUT_SHAPE`: the number of input units, `N_HIDDEN`: the number of hidden units, and `NB_CLASSES`: the number of output units, if we want to build a model using `built_model` function with the specifications given in the figure:\n",
        "\n",
        "![](https://drive.google.com/uc?id=1pcj2sHJK6CmhMjUo43AMNBxnU4ixQne3)\n",
        "\n",
        "\n",
        "\n",
        "To build this network we used TensorFlow Keras `plot_model` function available in `utils` model. You can learn more about the function from [TensorFlow docs](https://www.tensorflow.org/api_docs/python/tf/keras/utils/plot_model). "
      ]
    },
    {
      "cell_type": "code",
      "metadata": {
        "colab_type": "code",
        "id": "sBfRdV8ARuCe",
        "colab": {}
      },
      "source": [
        "# Task to do\n",
        "INPUT_SHAPE = 5\n",
        "N_HIDDEN = 10\n",
        "NB_CLASSES = 2  \n",
        "\n",
        "\n",
        "## Do not change anything below\n",
        "assert(INPUT_SHAPE == 5), \"Input shape incorrect\"\n",
        "assert(N_HIDDEN == 10), \"Number of hidden neurons incorrect\"\n",
        "assert(NB_CLASSES == 2), \"Number of output units incorrect\""
      ],
      "execution_count": 2,
      "outputs": []
    },
    {
      "cell_type": "code",
      "metadata": {
        "colab_type": "code",
        "id": "s00urUTcqfZR",
        "colab": {}
      },
      "source": [
        "model = built_model(INPUT_SHAPE, N_HIDDEN,NB_CLASSES)"
      ],
      "execution_count": 3,
      "outputs": []
    },
    {
      "cell_type": "markdown",
      "metadata": {
        "colab_type": "text",
        "id": "mTccrPMNyZF5"
      },
      "source": [
        "<a id='ex_2'></a>\n",
        "**Exercise 2** Based on the input, hidden and output units what are the total number of trainable parameters in this model?"
      ]
    },
    {
      "cell_type": "code",
      "metadata": {
        "colab_type": "code",
        "id": "3DchkRcAyXM6",
        "colab": {
          "base_uri": "https://localhost:8080/",
          "height": 34
        },
        "outputId": "e28124e7-2b54-4056-b1d8-6c43fe3dfaa4"
      },
      "source": [
        "# Task to do\n",
        "trainable_parameters = 192\n",
        "\n",
        "## Do not change anything below\n",
        "assert trainable_parameters==model.count_params(), \"Your answer is incorrect\"\n",
        "print(\"Number of trainable parameters in the model are\", trainable_parameters)"
      ],
      "execution_count": 4,
      "outputs": [
        {
          "output_type": "stream",
          "text": [
            "Number of trainable parameters in the model are 192\n"
          ],
          "name": "stdout"
        }
      ]
    },
    {
      "cell_type": "markdown",
      "metadata": {
        "colab_type": "text",
        "id": "g33IqZrGzLeW"
      },
      "source": [
        "Good work! Let us now visualize the summary of the model created. "
      ]
    },
    {
      "cell_type": "code",
      "metadata": {
        "colab_type": "code",
        "id": "f4OteoBfx_QH",
        "colab": {
          "base_uri": "https://localhost:8080/",
          "height": 260
        },
        "outputId": "a2e1662c-cc12-4156-ebae-38ca1349aea0"
      },
      "source": [
        "model.summary()"
      ],
      "execution_count": 5,
      "outputs": [
        {
          "output_type": "stream",
          "text": [
            "Model: \"sequential\"\n",
            "_________________________________________________________________\n",
            "Layer (type)                 Output Shape              Param #   \n",
            "=================================================================\n",
            "dense_layer (Dense)          (None, 10)                60        \n",
            "_________________________________________________________________\n",
            "dense_layer_2 (Dense)        (None, 10)                110       \n",
            "_________________________________________________________________\n",
            "dense_layer_3 (Dense)        (None, 2)                 22        \n",
            "=================================================================\n",
            "Total params: 192\n",
            "Trainable params: 192\n",
            "Non-trainable params: 0\n",
            "_________________________________________________________________\n"
          ],
          "name": "stdout"
        }
      ]
    },
    {
      "cell_type": "markdown",
      "metadata": {
        "colab_type": "text",
        "id": "2qeqEE5A3MQl"
      },
      "source": [
        "### Part 2: Reading the dataset\n",
        "\n",
        "We will continue with the MNIST dataset. \n",
        "\n",
        "###### Just run the cells in this part of the notebook. Do not change anything."
      ]
    },
    {
      "cell_type": "code",
      "metadata": {
        "colab_type": "code",
        "id": "D3OEjwzLyBoO",
        "colab": {
          "base_uri": "https://localhost:8080/",
          "height": 52
        },
        "outputId": "a61294d3-a2ae-4d7e-f384-75ee58846177"
      },
      "source": [
        "mnist = keras.datasets.mnist\n",
        "(X_train, Y_train), (X_test, Y_test) = mnist.load_data()"
      ],
      "execution_count": 6,
      "outputs": [
        {
          "output_type": "stream",
          "text": [
            "Downloading data from https://storage.googleapis.com/tensorflow/tf-keras-datasets/mnist.npz\n",
            "11493376/11490434 [==============================] - 0s 0us/step\n"
          ],
          "name": "stdout"
        }
      ]
    },
    {
      "cell_type": "code",
      "metadata": {
        "colab_type": "code",
        "id": "94uZnloL4-lB",
        "colab": {}
      },
      "source": [
        "# Processing the data\n",
        "assert(len(X_train.shape)==3), \"The input data is not of the right shape\"\n",
        "RESHAPED = X_train.shape[1]*X_train.shape[2]\n",
        "\n",
        "X_train = X_train.reshape(60000, RESHAPED)\n",
        "X_test = X_test.reshape(10000, RESHAPED)\n",
        "X_train = X_train.astype('float32')\n",
        "X_test = X_test.astype('float32')"
      ],
      "execution_count": 7,
      "outputs": []
    },
    {
      "cell_type": "code",
      "metadata": {
        "colab_type": "code",
        "id": "BJIMT6sT5Wtd",
        "colab": {
          "base_uri": "https://localhost:8080/",
          "height": 52
        },
        "outputId": "04c45dfa-95e1-4114-ca6a-cb4c5119f053"
      },
      "source": [
        "# Data Normalization\n",
        "X_train, X_test = X_train / 255.0, X_test / 255.0\n",
        "print(X_train.shape[0], 'train samples')\n",
        "print(X_test.shape[0], 'test samples')"
      ],
      "execution_count": 8,
      "outputs": [
        {
          "output_type": "stream",
          "text": [
            "60000 train samples\n",
            "10000 test samples\n"
          ],
          "name": "stdout"
        }
      ]
    },
    {
      "cell_type": "markdown",
      "metadata": {
        "colab_type": "text",
        "id": "HIRrNUTj4h_R"
      },
      "source": [
        "For the MNIST dataset the number of input and number of output units are fixed. However we can choose different values of hidden units. "
      ]
    },
    {
      "cell_type": "code",
      "metadata": {
        "colab_type": "code",
        "id": "si1FflpL3_hj",
        "colab": {}
      },
      "source": [
        "INPUT_SHAPE = RESHAPED\n",
        "NB_CLASSES = len(set(Y_train))"
      ],
      "execution_count": 9,
      "outputs": []
    },
    {
      "cell_type": "code",
      "metadata": {
        "colab_type": "code",
        "id": "ISwN58Q48a03",
        "colab": {}
      },
      "source": [
        "# one-hot encode\n",
        "Y_train = tf.keras.utils.to_categorical(Y_train, NB_CLASSES)\n",
        "Y_test = tf.keras.utils.to_categorical(Y_test, NB_CLASSES)"
      ],
      "execution_count": 10,
      "outputs": []
    },
    {
      "cell_type": "markdown",
      "metadata": {
        "colab_type": "text",
        "id": "-gjEx-hQ6Xsv"
      },
      "source": [
        "### Part 3: Hyperparameters\n",
        "\n",
        "<a id='ex_3'></a>\n",
        "**Exercise 3:** The aim of this exercise is to understand the affect of changing number of hidden units on the model performance. Change the number of hidden units, and train the model. Compare the model performance in terms of accuracy. What do you understand from this?"
      ]
    },
    {
      "cell_type": "markdown",
      "metadata": {
        "colab_type": "text",
        "id": "MWggLtWe7MUR"
      },
      "source": [
        "**Answer** Please type your answer here (Double click to edit)"
      ]
    },
    {
      "cell_type": "code",
      "metadata": {
        "colab_type": "code",
        "id": "qscy8jLk6BEA",
        "colab": {}
      },
      "source": [
        "# Task to do choose different values for number of hidden units (minimum five different values)\n",
        "N_HIDDEN =  128 #? Choose a value"
      ],
      "execution_count": 11,
      "outputs": []
    },
    {
      "cell_type": "code",
      "metadata": {
        "colab_type": "code",
        "id": "9yG8aKH37krD",
        "colab": {
          "base_uri": "https://localhost:8080/",
          "height": 1000
        },
        "outputId": "6f4b57ba-2c5f-44c4-e5c1-fa0c1b5291c5"
      },
      "source": [
        "## Do not change anything below\n",
        "model = built_model(INPUT_SHAPE,N_HIDDEN, NB_CLASSES)\n",
        "history = model.fit(X_train, Y_train,\n",
        "\t\tbatch_size=128, epochs=50,\n",
        "\t\tverbose=1, validation_split=0.2)\n",
        "\n",
        "# Evaluate the model\n",
        "test_loss, test_acc = model.evaluate(X_test, Y_test)\n",
        "print('Test accuracy: {:.2f} %'.format(test_acc*100))"
      ],
      "execution_count": 12,
      "outputs": [
        {
          "output_type": "stream",
          "text": [
            "Epoch 1/50\n",
            "375/375 [==============================] - 2s 5ms/step - loss: 1.4520 - accuracy: 0.6345 - val_loss: 0.7481 - val_accuracy: 0.8325\n",
            "Epoch 2/50\n",
            "375/375 [==============================] - 1s 4ms/step - loss: 0.5995 - accuracy: 0.8511 - val_loss: 0.4488 - val_accuracy: 0.8863\n",
            "Epoch 3/50\n",
            "375/375 [==============================] - 2s 4ms/step - loss: 0.4362 - accuracy: 0.8829 - val_loss: 0.3687 - val_accuracy: 0.8999\n",
            "Epoch 4/50\n",
            "375/375 [==============================] - 1s 4ms/step - loss: 0.3760 - accuracy: 0.8953 - val_loss: 0.3292 - val_accuracy: 0.9075\n",
            "Epoch 5/50\n",
            "375/375 [==============================] - 1s 4ms/step - loss: 0.3429 - accuracy: 0.9031 - val_loss: 0.3063 - val_accuracy: 0.9122\n",
            "Epoch 6/50\n",
            "375/375 [==============================] - 1s 4ms/step - loss: 0.3204 - accuracy: 0.9084 - val_loss: 0.2904 - val_accuracy: 0.9171\n",
            "Epoch 7/50\n",
            "375/375 [==============================] - 1s 4ms/step - loss: 0.3028 - accuracy: 0.9134 - val_loss: 0.2762 - val_accuracy: 0.9210\n",
            "Epoch 8/50\n",
            "375/375 [==============================] - 1s 4ms/step - loss: 0.2883 - accuracy: 0.9174 - val_loss: 0.2648 - val_accuracy: 0.9237\n",
            "Epoch 9/50\n",
            "375/375 [==============================] - 2s 4ms/step - loss: 0.2759 - accuracy: 0.9207 - val_loss: 0.2549 - val_accuracy: 0.9255\n",
            "Epoch 10/50\n",
            "375/375 [==============================] - 2s 4ms/step - loss: 0.2652 - accuracy: 0.9235 - val_loss: 0.2462 - val_accuracy: 0.9287\n",
            "Epoch 11/50\n",
            "375/375 [==============================] - 1s 4ms/step - loss: 0.2552 - accuracy: 0.9270 - val_loss: 0.2384 - val_accuracy: 0.9311\n",
            "Epoch 12/50\n",
            "375/375 [==============================] - 1s 4ms/step - loss: 0.2461 - accuracy: 0.9301 - val_loss: 0.2317 - val_accuracy: 0.9334\n",
            "Epoch 13/50\n",
            "375/375 [==============================] - 1s 4ms/step - loss: 0.2376 - accuracy: 0.9324 - val_loss: 0.2242 - val_accuracy: 0.9359\n",
            "Epoch 14/50\n",
            "375/375 [==============================] - 1s 4ms/step - loss: 0.2296 - accuracy: 0.9342 - val_loss: 0.2188 - val_accuracy: 0.9386\n",
            "Epoch 15/50\n",
            "375/375 [==============================] - 2s 4ms/step - loss: 0.2223 - accuracy: 0.9367 - val_loss: 0.2129 - val_accuracy: 0.9394\n",
            "Epoch 16/50\n",
            "375/375 [==============================] - 1s 4ms/step - loss: 0.2155 - accuracy: 0.9383 - val_loss: 0.2074 - val_accuracy: 0.9415\n",
            "Epoch 17/50\n",
            "375/375 [==============================] - 1s 4ms/step - loss: 0.2090 - accuracy: 0.9409 - val_loss: 0.2024 - val_accuracy: 0.9422\n",
            "Epoch 18/50\n",
            "375/375 [==============================] - 1s 4ms/step - loss: 0.2030 - accuracy: 0.9423 - val_loss: 0.1974 - val_accuracy: 0.9439\n",
            "Epoch 19/50\n",
            "375/375 [==============================] - 1s 4ms/step - loss: 0.1973 - accuracy: 0.9438 - val_loss: 0.1937 - val_accuracy: 0.9447\n",
            "Epoch 20/50\n",
            "375/375 [==============================] - 1s 4ms/step - loss: 0.1918 - accuracy: 0.9448 - val_loss: 0.1893 - val_accuracy: 0.9461\n",
            "Epoch 21/50\n",
            "375/375 [==============================] - 1s 4ms/step - loss: 0.1869 - accuracy: 0.9467 - val_loss: 0.1842 - val_accuracy: 0.9479\n",
            "Epoch 22/50\n",
            "375/375 [==============================] - 2s 4ms/step - loss: 0.1817 - accuracy: 0.9481 - val_loss: 0.1808 - val_accuracy: 0.9492\n",
            "Epoch 23/50\n",
            "375/375 [==============================] - 2s 4ms/step - loss: 0.1774 - accuracy: 0.9493 - val_loss: 0.1790 - val_accuracy: 0.9486\n",
            "Epoch 24/50\n",
            "375/375 [==============================] - 1s 4ms/step - loss: 0.1730 - accuracy: 0.9506 - val_loss: 0.1767 - val_accuracy: 0.9495\n",
            "Epoch 25/50\n",
            "375/375 [==============================] - 1s 4ms/step - loss: 0.1688 - accuracy: 0.9516 - val_loss: 0.1715 - val_accuracy: 0.9507\n",
            "Epoch 26/50\n",
            "375/375 [==============================] - 1s 4ms/step - loss: 0.1649 - accuracy: 0.9524 - val_loss: 0.1685 - val_accuracy: 0.9512\n",
            "Epoch 27/50\n",
            "375/375 [==============================] - 1s 4ms/step - loss: 0.1609 - accuracy: 0.9540 - val_loss: 0.1653 - val_accuracy: 0.9524\n",
            "Epoch 28/50\n",
            "375/375 [==============================] - 2s 4ms/step - loss: 0.1575 - accuracy: 0.9550 - val_loss: 0.1641 - val_accuracy: 0.9524\n",
            "Epoch 29/50\n",
            "375/375 [==============================] - 1s 4ms/step - loss: 0.1538 - accuracy: 0.9556 - val_loss: 0.1605 - val_accuracy: 0.9545\n",
            "Epoch 30/50\n",
            "375/375 [==============================] - 1s 4ms/step - loss: 0.1504 - accuracy: 0.9567 - val_loss: 0.1586 - val_accuracy: 0.9548\n",
            "Epoch 31/50\n",
            "375/375 [==============================] - 1s 4ms/step - loss: 0.1472 - accuracy: 0.9573 - val_loss: 0.1548 - val_accuracy: 0.9559\n",
            "Epoch 32/50\n",
            "375/375 [==============================] - 2s 4ms/step - loss: 0.1440 - accuracy: 0.9588 - val_loss: 0.1536 - val_accuracy: 0.9563\n",
            "Epoch 33/50\n",
            "375/375 [==============================] - 2s 4ms/step - loss: 0.1410 - accuracy: 0.9597 - val_loss: 0.1506 - val_accuracy: 0.9572\n",
            "Epoch 34/50\n",
            "375/375 [==============================] - 2s 4ms/step - loss: 0.1382 - accuracy: 0.9606 - val_loss: 0.1493 - val_accuracy: 0.9576\n",
            "Epoch 35/50\n",
            "375/375 [==============================] - 1s 4ms/step - loss: 0.1353 - accuracy: 0.9615 - val_loss: 0.1471 - val_accuracy: 0.9580\n",
            "Epoch 36/50\n",
            "375/375 [==============================] - 2s 4ms/step - loss: 0.1325 - accuracy: 0.9622 - val_loss: 0.1452 - val_accuracy: 0.9585\n",
            "Epoch 37/50\n",
            "375/375 [==============================] - 1s 4ms/step - loss: 0.1299 - accuracy: 0.9632 - val_loss: 0.1440 - val_accuracy: 0.9592\n",
            "Epoch 38/50\n",
            "375/375 [==============================] - 1s 4ms/step - loss: 0.1274 - accuracy: 0.9637 - val_loss: 0.1407 - val_accuracy: 0.9597\n",
            "Epoch 39/50\n",
            "375/375 [==============================] - 2s 4ms/step - loss: 0.1250 - accuracy: 0.9649 - val_loss: 0.1403 - val_accuracy: 0.9609\n",
            "Epoch 40/50\n",
            "375/375 [==============================] - 2s 4ms/step - loss: 0.1226 - accuracy: 0.9655 - val_loss: 0.1376 - val_accuracy: 0.9613\n",
            "Epoch 41/50\n",
            "375/375 [==============================] - 2s 4ms/step - loss: 0.1202 - accuracy: 0.9659 - val_loss: 0.1373 - val_accuracy: 0.9617\n",
            "Epoch 42/50\n",
            "375/375 [==============================] - 2s 4ms/step - loss: 0.1181 - accuracy: 0.9672 - val_loss: 0.1349 - val_accuracy: 0.9622\n",
            "Epoch 43/50\n",
            "375/375 [==============================] - 1s 4ms/step - loss: 0.1159 - accuracy: 0.9674 - val_loss: 0.1335 - val_accuracy: 0.9628\n",
            "Epoch 44/50\n",
            "375/375 [==============================] - 1s 4ms/step - loss: 0.1135 - accuracy: 0.9683 - val_loss: 0.1333 - val_accuracy: 0.9628\n",
            "Epoch 45/50\n",
            "375/375 [==============================] - 1s 4ms/step - loss: 0.1117 - accuracy: 0.9689 - val_loss: 0.1312 - val_accuracy: 0.9637\n",
            "Epoch 46/50\n",
            "375/375 [==============================] - 1s 4ms/step - loss: 0.1096 - accuracy: 0.9696 - val_loss: 0.1301 - val_accuracy: 0.9634\n",
            "Epoch 47/50\n",
            "375/375 [==============================] - 1s 4ms/step - loss: 0.1079 - accuracy: 0.9701 - val_loss: 0.1278 - val_accuracy: 0.9645\n",
            "Epoch 48/50\n",
            "375/375 [==============================] - 2s 4ms/step - loss: 0.1059 - accuracy: 0.9708 - val_loss: 0.1276 - val_accuracy: 0.9643\n",
            "Epoch 49/50\n",
            "375/375 [==============================] - 1s 4ms/step - loss: 0.1041 - accuracy: 0.9713 - val_loss: 0.1255 - val_accuracy: 0.9652\n",
            "Epoch 50/50\n",
            "375/375 [==============================] - 2s 4ms/step - loss: 0.1022 - accuracy: 0.9718 - val_loss: 0.1248 - val_accuracy: 0.9653\n",
            "313/313 [==============================] - 1s 3ms/step - loss: 0.1186 - accuracy: 0.9648\n",
            "Test accuracy: 96.48 %\n"
          ],
          "name": "stdout"
        }
      ]
    },
    {
      "cell_type": "markdown",
      "metadata": {
        "colab_type": "text",
        "id": "cqfMXnlJA02g"
      },
      "source": [
        "<a id='ex_4'></a>\n",
        "**Exercise 4:** Let us now repeat the same after changing the batch size (minimum 5 different values). Compare the model performance in terms of accuracy. What do you understand from this?"
      ]
    },
    {
      "cell_type": "markdown",
      "metadata": {
        "colab_type": "text",
        "id": "9z0TctxjB0KA"
      },
      "source": [
        "**Answer** Please type your answer here (Double click to edit)"
      ]
    },
    {
      "cell_type": "code",
      "metadata": {
        "colab_type": "code",
        "id": "TXO0QZtS_mQ_",
        "colab": {}
      },
      "source": [
        "# Task to do choose different values for batch size (minimum five different values)\n",
        "BATCH_SIZE =  128 #? Choose a value"
      ],
      "execution_count": 13,
      "outputs": []
    },
    {
      "cell_type": "code",
      "metadata": {
        "colab_type": "code",
        "id": "S1CVvMthBmWr",
        "colab": {
          "base_uri": "https://localhost:8080/",
          "height": 1000
        },
        "outputId": "8c2d7ed2-0317-4f67-fb52-d0f462958f62"
      },
      "source": [
        "## Do not change anything below\n",
        "model = built_model(INPUT_SHAPE,128, NB_CLASSES)\n",
        "history = model.fit(X_train, Y_train,\n",
        "\t\tbatch_size=BATCH_SIZE, epochs=50,\n",
        "\t\tverbose=1, validation_split=0.2)\n",
        "# Evaluate the model\n",
        "test_loss, test_acc = model.evaluate(X_test, Y_test)\n",
        "print('Test accuracy: {:.2f} %'.format(test_acc*100))"
      ],
      "execution_count": 14,
      "outputs": [
        {
          "output_type": "stream",
          "text": [
            "Epoch 1/50\n",
            "375/375 [==============================] - 2s 4ms/step - loss: 1.4707 - accuracy: 0.6124 - val_loss: 0.7485 - val_accuracy: 0.8298\n",
            "Epoch 2/50\n",
            "375/375 [==============================] - 1s 4ms/step - loss: 0.5986 - accuracy: 0.8492 - val_loss: 0.4561 - val_accuracy: 0.8818\n",
            "Epoch 3/50\n",
            "375/375 [==============================] - 1s 4ms/step - loss: 0.4382 - accuracy: 0.8813 - val_loss: 0.3727 - val_accuracy: 0.8980\n",
            "Epoch 4/50\n",
            "375/375 [==============================] - 1s 4ms/step - loss: 0.3769 - accuracy: 0.8944 - val_loss: 0.3344 - val_accuracy: 0.9050\n",
            "Epoch 5/50\n",
            "375/375 [==============================] - 2s 4ms/step - loss: 0.3428 - accuracy: 0.9029 - val_loss: 0.3098 - val_accuracy: 0.9120\n",
            "Epoch 6/50\n",
            "375/375 [==============================] - 1s 4ms/step - loss: 0.3195 - accuracy: 0.9094 - val_loss: 0.2923 - val_accuracy: 0.9169\n",
            "Epoch 7/50\n",
            "375/375 [==============================] - 2s 4ms/step - loss: 0.3014 - accuracy: 0.9140 - val_loss: 0.2792 - val_accuracy: 0.9216\n",
            "Epoch 8/50\n",
            "375/375 [==============================] - 1s 4ms/step - loss: 0.2867 - accuracy: 0.9186 - val_loss: 0.2664 - val_accuracy: 0.9242\n",
            "Epoch 9/50\n",
            "375/375 [==============================] - 2s 4ms/step - loss: 0.2739 - accuracy: 0.9216 - val_loss: 0.2563 - val_accuracy: 0.9273\n",
            "Epoch 10/50\n",
            "375/375 [==============================] - 1s 4ms/step - loss: 0.2627 - accuracy: 0.9252 - val_loss: 0.2512 - val_accuracy: 0.9289\n",
            "Epoch 11/50\n",
            "375/375 [==============================] - 2s 4ms/step - loss: 0.2529 - accuracy: 0.9276 - val_loss: 0.2393 - val_accuracy: 0.9325\n",
            "Epoch 12/50\n",
            "375/375 [==============================] - 1s 4ms/step - loss: 0.2439 - accuracy: 0.9301 - val_loss: 0.2332 - val_accuracy: 0.9333\n",
            "Epoch 13/50\n",
            "375/375 [==============================] - 1s 4ms/step - loss: 0.2356 - accuracy: 0.9326 - val_loss: 0.2257 - val_accuracy: 0.9369\n",
            "Epoch 14/50\n",
            "375/375 [==============================] - 1s 4ms/step - loss: 0.2278 - accuracy: 0.9354 - val_loss: 0.2212 - val_accuracy: 0.9365\n",
            "Epoch 15/50\n",
            "375/375 [==============================] - 1s 4ms/step - loss: 0.2207 - accuracy: 0.9368 - val_loss: 0.2125 - val_accuracy: 0.9398\n",
            "Epoch 16/50\n",
            "375/375 [==============================] - 1s 4ms/step - loss: 0.2138 - accuracy: 0.9391 - val_loss: 0.2084 - val_accuracy: 0.9406\n",
            "Epoch 17/50\n",
            "375/375 [==============================] - 1s 4ms/step - loss: 0.2075 - accuracy: 0.9405 - val_loss: 0.2025 - val_accuracy: 0.9432\n",
            "Epoch 18/50\n",
            "375/375 [==============================] - 1s 4ms/step - loss: 0.2016 - accuracy: 0.9428 - val_loss: 0.1972 - val_accuracy: 0.9450\n",
            "Epoch 19/50\n",
            "375/375 [==============================] - 2s 4ms/step - loss: 0.1957 - accuracy: 0.9442 - val_loss: 0.1935 - val_accuracy: 0.9463\n",
            "Epoch 20/50\n",
            "375/375 [==============================] - 1s 4ms/step - loss: 0.1904 - accuracy: 0.9451 - val_loss: 0.1888 - val_accuracy: 0.9477\n",
            "Epoch 21/50\n",
            "375/375 [==============================] - 1s 4ms/step - loss: 0.1850 - accuracy: 0.9467 - val_loss: 0.1857 - val_accuracy: 0.9483\n",
            "Epoch 22/50\n",
            "375/375 [==============================] - 2s 4ms/step - loss: 0.1803 - accuracy: 0.9486 - val_loss: 0.1807 - val_accuracy: 0.9503\n",
            "Epoch 23/50\n",
            "375/375 [==============================] - 1s 4ms/step - loss: 0.1756 - accuracy: 0.9497 - val_loss: 0.1775 - val_accuracy: 0.9506\n",
            "Epoch 24/50\n",
            "375/375 [==============================] - 1s 4ms/step - loss: 0.1713 - accuracy: 0.9506 - val_loss: 0.1746 - val_accuracy: 0.9516\n",
            "Epoch 25/50\n",
            "375/375 [==============================] - 1s 4ms/step - loss: 0.1669 - accuracy: 0.9523 - val_loss: 0.1712 - val_accuracy: 0.9510\n",
            "Epoch 26/50\n",
            "375/375 [==============================] - 1s 4ms/step - loss: 0.1631 - accuracy: 0.9536 - val_loss: 0.1675 - val_accuracy: 0.9535\n",
            "Epoch 27/50\n",
            "375/375 [==============================] - 1s 4ms/step - loss: 0.1592 - accuracy: 0.9539 - val_loss: 0.1655 - val_accuracy: 0.9529\n",
            "Epoch 28/50\n",
            "375/375 [==============================] - 1s 4ms/step - loss: 0.1555 - accuracy: 0.9552 - val_loss: 0.1617 - val_accuracy: 0.9553\n",
            "Epoch 29/50\n",
            "375/375 [==============================] - 1s 4ms/step - loss: 0.1521 - accuracy: 0.9565 - val_loss: 0.1600 - val_accuracy: 0.9553\n",
            "Epoch 30/50\n",
            "375/375 [==============================] - 1s 4ms/step - loss: 0.1485 - accuracy: 0.9573 - val_loss: 0.1570 - val_accuracy: 0.9560\n",
            "Epoch 31/50\n",
            "375/375 [==============================] - 1s 4ms/step - loss: 0.1453 - accuracy: 0.9581 - val_loss: 0.1546 - val_accuracy: 0.9566\n",
            "Epoch 32/50\n",
            "375/375 [==============================] - 1s 4ms/step - loss: 0.1424 - accuracy: 0.9595 - val_loss: 0.1520 - val_accuracy: 0.9576\n",
            "Epoch 33/50\n",
            "375/375 [==============================] - 1s 4ms/step - loss: 0.1393 - accuracy: 0.9601 - val_loss: 0.1502 - val_accuracy: 0.9576\n",
            "Epoch 34/50\n",
            "375/375 [==============================] - 1s 4ms/step - loss: 0.1364 - accuracy: 0.9613 - val_loss: 0.1480 - val_accuracy: 0.9589\n",
            "Epoch 35/50\n",
            "375/375 [==============================] - 1s 4ms/step - loss: 0.1337 - accuracy: 0.9615 - val_loss: 0.1457 - val_accuracy: 0.9594\n",
            "Epoch 36/50\n",
            "375/375 [==============================] - 1s 4ms/step - loss: 0.1310 - accuracy: 0.9626 - val_loss: 0.1447 - val_accuracy: 0.9595\n",
            "Epoch 37/50\n",
            "375/375 [==============================] - 1s 4ms/step - loss: 0.1284 - accuracy: 0.9634 - val_loss: 0.1422 - val_accuracy: 0.9600\n",
            "Epoch 38/50\n",
            "375/375 [==============================] - 1s 4ms/step - loss: 0.1260 - accuracy: 0.9638 - val_loss: 0.1402 - val_accuracy: 0.9605\n",
            "Epoch 39/50\n",
            "375/375 [==============================] - 2s 4ms/step - loss: 0.1236 - accuracy: 0.9648 - val_loss: 0.1397 - val_accuracy: 0.9610\n",
            "Epoch 40/50\n",
            "375/375 [==============================] - 2s 4ms/step - loss: 0.1213 - accuracy: 0.9653 - val_loss: 0.1373 - val_accuracy: 0.9610\n",
            "Epoch 41/50\n",
            "375/375 [==============================] - 1s 4ms/step - loss: 0.1191 - accuracy: 0.9663 - val_loss: 0.1359 - val_accuracy: 0.9616\n",
            "Epoch 42/50\n",
            "375/375 [==============================] - 2s 4ms/step - loss: 0.1167 - accuracy: 0.9668 - val_loss: 0.1376 - val_accuracy: 0.9607\n",
            "Epoch 43/50\n",
            "375/375 [==============================] - 1s 4ms/step - loss: 0.1151 - accuracy: 0.9671 - val_loss: 0.1332 - val_accuracy: 0.9624\n",
            "Epoch 44/50\n",
            "375/375 [==============================] - 1s 4ms/step - loss: 0.1129 - accuracy: 0.9678 - val_loss: 0.1320 - val_accuracy: 0.9627\n",
            "Epoch 45/50\n",
            "375/375 [==============================] - 1s 4ms/step - loss: 0.1108 - accuracy: 0.9688 - val_loss: 0.1310 - val_accuracy: 0.9625\n",
            "Epoch 46/50\n",
            "375/375 [==============================] - 1s 4ms/step - loss: 0.1089 - accuracy: 0.9691 - val_loss: 0.1295 - val_accuracy: 0.9635\n",
            "Epoch 47/50\n",
            "375/375 [==============================] - 1s 4ms/step - loss: 0.1071 - accuracy: 0.9698 - val_loss: 0.1288 - val_accuracy: 0.9634\n",
            "Epoch 48/50\n",
            "375/375 [==============================] - 1s 4ms/step - loss: 0.1053 - accuracy: 0.9705 - val_loss: 0.1268 - val_accuracy: 0.9645\n",
            "Epoch 49/50\n",
            "375/375 [==============================] - 2s 4ms/step - loss: 0.1035 - accuracy: 0.9707 - val_loss: 0.1255 - val_accuracy: 0.9638\n",
            "Epoch 50/50\n",
            "375/375 [==============================] - 1s 4ms/step - loss: 0.1016 - accuracy: 0.9715 - val_loss: 0.1246 - val_accuracy: 0.9647\n",
            "313/313 [==============================] - 1s 3ms/step - loss: 0.1209 - accuracy: 0.9641\n",
            "Test accuracy: 96.41 %\n"
          ],
          "name": "stdout"
        }
      ]
    },
    {
      "cell_type": "markdown",
      "metadata": {
        "colab_type": "text",
        "id": "8L802oqkCBg8"
      },
      "source": [
        "<a id='ex_5'></a>\n",
        "**Exercise 5:** And now we do the same with different optimizers available in TensorFlow. Change the optimizers and compare the model performance in terms of accuracy. What do you understand from this?"
      ]
    },
    {
      "cell_type": "markdown",
      "metadata": {
        "colab_type": "text",
        "id": "1M0Dx7O2CEW8"
      },
      "source": [
        "**Answer** Please type your answer here (Double click to edit)"
      ]
    },
    {
      "cell_type": "code",
      "metadata": {
        "colab_type": "code",
        "id": "2DsZiC8CB7j5",
        "colab": {}
      },
      "source": [
        "# Task to do choose different optimizers\n",
        "opt =  'Adam' #? Choose from available optimizers"
      ],
      "execution_count": 15,
      "outputs": []
    },
    {
      "cell_type": "code",
      "metadata": {
        "colab_type": "code",
        "id": "DkcTxGl4CqK5",
        "colab": {
          "base_uri": "https://localhost:8080/",
          "height": 1000
        },
        "outputId": "95b14847-cd60-449e-8ad9-5e5bc2aeb80b"
      },
      "source": [
        "## Do not change anything below\n",
        "N_HIDDEN = 128\n",
        "model = built_model(INPUT_SHAPE,N_HIDDEN, NB_CLASSES, opt)\n",
        "history = model.fit(X_train, Y_train,\n",
        "\t\tbatch_size=128, epochs=50,\n",
        "\t\tverbose=1, validation_split=0.2)\n",
        "\n",
        "# Evaluate the model\n",
        "test_loss, test_acc = model.evaluate(X_test, Y_test)\n",
        "print('Test accuracy: {:.2f} %'.format(test_acc*100))"
      ],
      "execution_count": 16,
      "outputs": [
        {
          "output_type": "stream",
          "text": [
            "Epoch 1/50\n",
            "375/375 [==============================] - 2s 5ms/step - loss: 0.3478 - accuracy: 0.9018 - val_loss: 0.1778 - val_accuracy: 0.9498\n",
            "Epoch 2/50\n",
            "375/375 [==============================] - 2s 4ms/step - loss: 0.1450 - accuracy: 0.9570 - val_loss: 0.1318 - val_accuracy: 0.9614\n",
            "Epoch 3/50\n",
            "375/375 [==============================] - 2s 4ms/step - loss: 0.0995 - accuracy: 0.9702 - val_loss: 0.1072 - val_accuracy: 0.9694\n",
            "Epoch 4/50\n",
            "375/375 [==============================] - 2s 4ms/step - loss: 0.0756 - accuracy: 0.9766 - val_loss: 0.1082 - val_accuracy: 0.9674\n",
            "Epoch 5/50\n",
            "375/375 [==============================] - 2s 4ms/step - loss: 0.0568 - accuracy: 0.9827 - val_loss: 0.1004 - val_accuracy: 0.9711\n",
            "Epoch 6/50\n",
            "375/375 [==============================] - 2s 4ms/step - loss: 0.0455 - accuracy: 0.9863 - val_loss: 0.0946 - val_accuracy: 0.9726\n",
            "Epoch 7/50\n",
            "375/375 [==============================] - 2s 4ms/step - loss: 0.0363 - accuracy: 0.9887 - val_loss: 0.0889 - val_accuracy: 0.9751\n",
            "Epoch 8/50\n",
            "375/375 [==============================] - 2s 4ms/step - loss: 0.0292 - accuracy: 0.9911 - val_loss: 0.0943 - val_accuracy: 0.9757\n",
            "Epoch 9/50\n",
            "375/375 [==============================] - 2s 4ms/step - loss: 0.0231 - accuracy: 0.9929 - val_loss: 0.0929 - val_accuracy: 0.9767\n",
            "Epoch 10/50\n",
            "375/375 [==============================] - 2s 4ms/step - loss: 0.0229 - accuracy: 0.9927 - val_loss: 0.0935 - val_accuracy: 0.9750\n",
            "Epoch 11/50\n",
            "375/375 [==============================] - 2s 4ms/step - loss: 0.0167 - accuracy: 0.9953 - val_loss: 0.0981 - val_accuracy: 0.9755\n",
            "Epoch 12/50\n",
            "375/375 [==============================] - 2s 4ms/step - loss: 0.0130 - accuracy: 0.9960 - val_loss: 0.1074 - val_accuracy: 0.9749\n",
            "Epoch 13/50\n",
            "375/375 [==============================] - 2s 4ms/step - loss: 0.0159 - accuracy: 0.9946 - val_loss: 0.1161 - val_accuracy: 0.9737\n",
            "Epoch 14/50\n",
            "375/375 [==============================] - 2s 4ms/step - loss: 0.0113 - accuracy: 0.9964 - val_loss: 0.1055 - val_accuracy: 0.9759\n",
            "Epoch 15/50\n",
            "375/375 [==============================] - 2s 4ms/step - loss: 0.0091 - accuracy: 0.9969 - val_loss: 0.1043 - val_accuracy: 0.9772\n",
            "Epoch 16/50\n",
            "375/375 [==============================] - 2s 4ms/step - loss: 0.0079 - accuracy: 0.9975 - val_loss: 0.1181 - val_accuracy: 0.9737\n",
            "Epoch 17/50\n",
            "375/375 [==============================] - 2s 4ms/step - loss: 0.0142 - accuracy: 0.9951 - val_loss: 0.1233 - val_accuracy: 0.9749\n",
            "Epoch 18/50\n",
            "375/375 [==============================] - 2s 4ms/step - loss: 0.0092 - accuracy: 0.9970 - val_loss: 0.1178 - val_accuracy: 0.9762\n",
            "Epoch 19/50\n",
            "375/375 [==============================] - 2s 4ms/step - loss: 0.0074 - accuracy: 0.9975 - val_loss: 0.1187 - val_accuracy: 0.9758\n",
            "Epoch 20/50\n",
            "375/375 [==============================] - 2s 5ms/step - loss: 0.0069 - accuracy: 0.9979 - val_loss: 0.1336 - val_accuracy: 0.9758\n",
            "Epoch 21/50\n",
            "375/375 [==============================] - 2s 5ms/step - loss: 0.0064 - accuracy: 0.9980 - val_loss: 0.1349 - val_accuracy: 0.9753\n",
            "Epoch 22/50\n",
            "375/375 [==============================] - 2s 4ms/step - loss: 0.0121 - accuracy: 0.9958 - val_loss: 0.1354 - val_accuracy: 0.9754\n",
            "Epoch 23/50\n",
            "375/375 [==============================] - 2s 4ms/step - loss: 0.0058 - accuracy: 0.9981 - val_loss: 0.1418 - val_accuracy: 0.9744\n",
            "Epoch 24/50\n",
            "375/375 [==============================] - 2s 4ms/step - loss: 0.0020 - accuracy: 0.9995 - val_loss: 0.1214 - val_accuracy: 0.9785\n",
            "Epoch 25/50\n",
            "375/375 [==============================] - 2s 4ms/step - loss: 5.7758e-04 - accuracy: 0.9999 - val_loss: 0.1174 - val_accuracy: 0.9799\n",
            "Epoch 26/50\n",
            "375/375 [==============================] - 1s 4ms/step - loss: 2.0877e-04 - accuracy: 1.0000 - val_loss: 0.1190 - val_accuracy: 0.9806\n",
            "Epoch 27/50\n",
            "375/375 [==============================] - 2s 4ms/step - loss: 1.5015e-04 - accuracy: 1.0000 - val_loss: 0.1206 - val_accuracy: 0.9812\n",
            "Epoch 28/50\n",
            "375/375 [==============================] - 2s 4ms/step - loss: 1.1908e-04 - accuracy: 1.0000 - val_loss: 0.1220 - val_accuracy: 0.9809\n",
            "Epoch 29/50\n",
            "375/375 [==============================] - 2s 4ms/step - loss: 0.0304 - accuracy: 0.9911 - val_loss: 0.1269 - val_accuracy: 0.9743\n",
            "Epoch 30/50\n",
            "375/375 [==============================] - 2s 4ms/step - loss: 0.0082 - accuracy: 0.9971 - val_loss: 0.1208 - val_accuracy: 0.9786\n",
            "Epoch 31/50\n",
            "375/375 [==============================] - 2s 4ms/step - loss: 0.0044 - accuracy: 0.9985 - val_loss: 0.1256 - val_accuracy: 0.9787\n",
            "Epoch 32/50\n",
            "375/375 [==============================] - 2s 4ms/step - loss: 0.0060 - accuracy: 0.9979 - val_loss: 0.1421 - val_accuracy: 0.9762\n",
            "Epoch 33/50\n",
            "375/375 [==============================] - 2s 4ms/step - loss: 0.0028 - accuracy: 0.9992 - val_loss: 0.1319 - val_accuracy: 0.9772\n",
            "Epoch 34/50\n",
            "375/375 [==============================] - 2s 4ms/step - loss: 0.0047 - accuracy: 0.9984 - val_loss: 0.1602 - val_accuracy: 0.9741\n",
            "Epoch 35/50\n",
            "375/375 [==============================] - 2s 4ms/step - loss: 0.0077 - accuracy: 0.9976 - val_loss: 0.1347 - val_accuracy: 0.9778\n",
            "Epoch 36/50\n",
            "375/375 [==============================] - 2s 4ms/step - loss: 0.0020 - accuracy: 0.9993 - val_loss: 0.1593 - val_accuracy: 0.9754\n",
            "Epoch 37/50\n",
            "375/375 [==============================] - 2s 4ms/step - loss: 0.0081 - accuracy: 0.9972 - val_loss: 0.1530 - val_accuracy: 0.9749\n",
            "Epoch 38/50\n",
            "375/375 [==============================] - 2s 4ms/step - loss: 0.0058 - accuracy: 0.9980 - val_loss: 0.1388 - val_accuracy: 0.9782\n",
            "Epoch 39/50\n",
            "375/375 [==============================] - 2s 4ms/step - loss: 0.0060 - accuracy: 0.9979 - val_loss: 0.1606 - val_accuracy: 0.9764\n",
            "Epoch 40/50\n",
            "375/375 [==============================] - 2s 4ms/step - loss: 0.0037 - accuracy: 0.9987 - val_loss: 0.1563 - val_accuracy: 0.9773\n",
            "Epoch 41/50\n",
            "375/375 [==============================] - 2s 4ms/step - loss: 0.0073 - accuracy: 0.9975 - val_loss: 0.1457 - val_accuracy: 0.9779\n",
            "Epoch 42/50\n",
            "375/375 [==============================] - 2s 4ms/step - loss: 0.0017 - accuracy: 0.9995 - val_loss: 0.1290 - val_accuracy: 0.9808\n",
            "Epoch 43/50\n",
            "375/375 [==============================] - 2s 4ms/step - loss: 6.6453e-04 - accuracy: 0.9999 - val_loss: 0.1268 - val_accuracy: 0.9812\n",
            "Epoch 44/50\n",
            "375/375 [==============================] - 2s 4ms/step - loss: 9.7281e-05 - accuracy: 1.0000 - val_loss: 0.1290 - val_accuracy: 0.9822\n",
            "Epoch 45/50\n",
            "375/375 [==============================] - 2s 4ms/step - loss: 5.2247e-05 - accuracy: 1.0000 - val_loss: 0.1296 - val_accuracy: 0.9819\n",
            "Epoch 46/50\n",
            "375/375 [==============================] - 2s 5ms/step - loss: 4.1845e-05 - accuracy: 1.0000 - val_loss: 0.1309 - val_accuracy: 0.9819\n",
            "Epoch 47/50\n",
            "375/375 [==============================] - 2s 5ms/step - loss: 3.5057e-05 - accuracy: 1.0000 - val_loss: 0.1321 - val_accuracy: 0.9818\n",
            "Epoch 48/50\n",
            "375/375 [==============================] - 2s 5ms/step - loss: 2.9467e-05 - accuracy: 1.0000 - val_loss: 0.1333 - val_accuracy: 0.9818\n",
            "Epoch 49/50\n",
            "375/375 [==============================] - 2s 5ms/step - loss: 2.4989e-05 - accuracy: 1.0000 - val_loss: 0.1348 - val_accuracy: 0.9818\n",
            "Epoch 50/50\n",
            "375/375 [==============================] - 2s 5ms/step - loss: 2.1608e-05 - accuracy: 1.0000 - val_loss: 0.1363 - val_accuracy: 0.9820\n",
            "313/313 [==============================] - 1s 3ms/step - loss: 0.1168 - accuracy: 0.9802\n",
            "Test accuracy: 98.02 %\n"
          ],
          "name": "stdout"
        }
      ]
    },
    {
      "cell_type": "markdown",
      "metadata": {
        "colab_type": "text",
        "id": "-46TwuMnDdIB"
      },
      "source": [
        "<a id='ex_O'></a>\n",
        "### Optional Exercise: Fashion MNIST\n",
        "\n",
        "Repeat the above exercises (3-5) with different dataset. You can use Fashion MNIST another popular ML dataset. Are the results same? Comment.\n",
        "\n",
        "To download fashion mnist you can use the following code:\n",
        "\n",
        "```\n",
        "fashion_mnist = keras.datasets.fashion_mnist\n",
        "\n",
        "(X_train, Y_train), (X_test, Y_test) = fashion_mnist.load_data()\n",
        "```"
      ]
    },
    {
      "cell_type": "code",
      "metadata": {
        "colab_type": "code",
        "id": "kqc0ID8XDLCN",
        "colab": {}
      },
      "source": [
        ""
      ],
      "execution_count": 16,
      "outputs": []
    }
  ]
}